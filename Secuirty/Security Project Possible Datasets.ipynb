{
 "cells": [
  {
   "cell_type": "code",
   "execution_count": 2,
   "metadata": {},
   "outputs": [
    {
     "name": "stdout",
     "output_type": "stream",
     "text": [
      "Requirement already satisfied: seaborn in c:\\users\\lana\\anaconda3\\envs\\tf_gpu\\lib\\site-packages (0.10.0)\n",
      "Requirement already satisfied: numpy>=1.13.3 in c:\\users\\lana\\anaconda3\\envs\\tf_gpu\\lib\\site-packages (from seaborn) (1.16.1)\n",
      "Requirement already satisfied: scipy>=1.0.1 in c:\\users\\lana\\anaconda3\\envs\\tf_gpu\\lib\\site-packages (from seaborn) (1.3.2)\n",
      "Requirement already satisfied: matplotlib>=2.1.2 in c:\\users\\lana\\anaconda3\\envs\\tf_gpu\\lib\\site-packages (from seaborn) (3.1.1)\n",
      "Requirement already satisfied: pandas>=0.22.0 in c:\\users\\lana\\anaconda3\\envs\\tf_gpu\\lib\\site-packages (from seaborn) (0.25.1)\n",
      "Requirement already satisfied: cycler>=0.10 in c:\\users\\lana\\anaconda3\\envs\\tf_gpu\\lib\\site-packages (from matplotlib>=2.1.2->seaborn) (0.10.0)\n",
      "Requirement already satisfied: kiwisolver>=1.0.1 in c:\\users\\lana\\anaconda3\\envs\\tf_gpu\\lib\\site-packages (from matplotlib>=2.1.2->seaborn) (1.1.0)\n",
      "Requirement already satisfied: pyparsing!=2.0.4,!=2.1.2,!=2.1.6,>=2.0.1 in c:\\users\\lana\\anaconda3\\envs\\tf_gpu\\lib\\site-packages (from matplotlib>=2.1.2->seaborn) (2.4.6)\n",
      "Requirement already satisfied: python-dateutil>=2.1 in c:\\users\\lana\\anaconda3\\envs\\tf_gpu\\lib\\site-packages (from matplotlib>=2.1.2->seaborn) (2.8.1)\n",
      "Requirement already satisfied: pytz>=2017.2 in c:\\users\\lana\\anaconda3\\envs\\tf_gpu\\lib\\site-packages (from pandas>=0.22.0->seaborn) (2019.3)\n",
      "Requirement already satisfied: six in c:\\users\\lana\\anaconda3\\envs\\tf_gpu\\lib\\site-packages (from cycler>=0.10->matplotlib>=2.1.2->seaborn) (1.14.0)\n",
      "Requirement already satisfied: setuptools in c:\\users\\lana\\anaconda3\\envs\\tf_gpu\\lib\\site-packages (from kiwisolver>=1.0.1->matplotlib>=2.1.2->seaborn) (45.2.0.post20200210)\n"
     ]
    }
   ],
   "source": [
    "import sys\n",
    "!{sys.executable} -m pip install seaborn\n",
    "\n",
    "import matplotlib.pyplot as plt\n",
    "import seaborn as sns\n",
    "import pandas as pd"
   ]
  },
  {
   "cell_type": "code",
   "execution_count": 5,
   "metadata": {},
   "outputs": [],
   "source": [
    "df_facebook = pd.read_csv('facebookac.csv')"
   ]
  },
  {
   "cell_type": "code",
   "execution_count": 6,
   "metadata": {},
   "outputs": [
    {
     "data": {
      "text/plain": [
       "<bound method NDFrame.head of     Status  No Friend    education about me family  gender relationship  \\\n",
       "0     real        170   university      yes    yes    male   complicate   \n",
       "1     real        353   university      yes    yes    male        alone   \n",
       "2     real        517   university       no    yes    male        alone   \n",
       "3     real        460   university       no    yes    male        alone   \n",
       "4     real        240   university       no    yes  female   complicate   \n",
       "5     real        340  high school       no    yes    male   complicate   \n",
       "6     real        460           no       no    yes    male      married   \n",
       "7     real        534   university       no    yes    male                \n",
       "8     real        957   university       no    yes    male        alone   \n",
       "9     real        452   university       no    yes    male        alone   \n",
       "10    real        779   university      yes    yes    male   complicate   \n",
       "11    real        516   university      yes     no    male        alone   \n",
       "12    real        267   university      yes    yes  female      married   \n",
       "13    real        418   university      yes     no    male        alone   \n",
       "14    real        445  high school       no     no  female        alone   \n",
       "15    real        205   university      yes    yes    male        alone   \n",
       "16    real        575   university      yes    yes    male        alone   \n",
       "17    real        507   university      yes    yes  female        alone   \n",
       "18    real        130   university      yes     no    male        alone   \n",
       "19    real        527   university      yes    yes    male        alone   \n",
       "20    real        346   university      yes     no    male        alone   \n",
       "21    real        348   university      yes     no    male        alone   \n",
       "22    real        452   university      yes     no  female        alone   \n",
       "23    real        603   university      yes    yes    male        alone   \n",
       "24    real       1031   university      yes    yes    male                \n",
       "25    real       1806           no      yes    yes    male        alone   \n",
       "26    real        686   university      yes    yes    male        alone   \n",
       "27    real        582   university      yes    yes    male        alone   \n",
       "28    real        875   university      yes    yes    male        alone   \n",
       "29    real        875   university      yes     no    male        alone   \n",
       "..     ...        ...          ...      ...    ...     ...          ...   \n",
       "859   fake        139           no      yes     no  female        alone   \n",
       "860   fake         66   university      yes     no    male   complicate   \n",
       "861   fake        140   university      yes     no    male        alone   \n",
       "862   fake        153           no       no     no    male        alone   \n",
       "863   fake        156           no      yes     no    male        alone   \n",
       "864   fake        139           no       no     no    male        alone   \n",
       "865   fake         46           no       no     no  female        alone   \n",
       "866   fake        126           no       no     no    male        alone   \n",
       "867   fake        123           no       no     no    male        alone   \n",
       "868   fake        131           no       no     no  female        alone   \n",
       "869   fake        118  high school      yes     no  female        alone   \n",
       "870   fake          3           no       no     no    male        alone   \n",
       "871   fake         10           no       no     no    male        alone   \n",
       "872   fake        305   university      yes     no    male        alone   \n",
       "873   fake         31           no      yes     no  female        alone   \n",
       "874   fake       1362           no      yes     no  female        alone   \n",
       "875   fake        473           no       no     no  female        alone   \n",
       "876   fake        215           no       no     no  female        alone   \n",
       "877   fake        133           no       no    yes    male        alone   \n",
       "878   fake        346           no       no    yes  female        alone   \n",
       "879   fake        214           no       no     no  female        alone   \n",
       "880   fake        234   university      yes     no  female        alone   \n",
       "881   fake        230           no       no     no  female        alone   \n",
       "882   fake        183           no       no     no    male        alone   \n",
       "883   fake        372   university      yes     no    male        alone   \n",
       "884   fake        313           no      yes     no    male   complicate   \n",
       "885   fake        257           no       no     no  female        alone   \n",
       "886   fake        629           no      yes     no  female        alone   \n",
       "887   fake        524  high school      yes     no  female   complicate   \n",
       "888   fake        431  high school      yes     no  female        alone   \n",
       "\n",
       "     phototag*  photopost*  video  ...  music  film  series  book  game  \\\n",
       "0           29          59      8  ...      1     3       6     0     6   \n",
       "1            1          13      0  ...     11     6      10     1     1   \n",
       "2          112         236      3  ...      0     8       3     1     5   \n",
       "3           74         142      3  ...     16    14      17     6    19   \n",
       "4           23          13      1  ...      0     0       0     0     0   \n",
       "5           12         120      1  ...      0     0       0     0     0   \n",
       "6            6          13      1  ...      2    11       4     0     0   \n",
       "7            7          35      2  ...      5     2       1     1     0   \n",
       "8           32          10      4  ...     10     8       6     1    10   \n",
       "9            4          27      1  ...     16    13       5     4     5   \n",
       "10          48          44      0  ...      0    29       2     0     1   \n",
       "11          29           3      3  ...     15     4       6     2     8   \n",
       "12          44         206     33  ...     23    42      21     1     3   \n",
       "13          29          93      3  ...     37    12      42     4     5   \n",
       "14           3          31      0  ...      5    44       2     0     1   \n",
       "15          23           6      1  ...      0     0       4     0     0   \n",
       "16           1           7      2  ...     10     0       1     0     1   \n",
       "17          48          73      2  ...    106    12       0    10     0   \n",
       "18          51          72      0  ...      0     1       1     0     0   \n",
       "19          63         744     18  ...      8    11       4     7     0   \n",
       "20          41          14      1  ...      1     0       2     0     0   \n",
       "21          48          44      1  ...      4     2       1     1     5   \n",
       "22          44         188      2  ...     38    10       5     1     2   \n",
       "23          80          15      5  ...     11    30       9    12     3   \n",
       "24          35         180     10  ...      0     2       0     0     0   \n",
       "25           2           7      0  ...     62    48      52    22    47   \n",
       "26           6           3      2  ...      2     2       2     2     5   \n",
       "27          24         172     12  ...     20    51      13    27     3   \n",
       "28          33          24      8  ...     22    13      11     7    18   \n",
       "29           8          18      9  ...      1     0       0     0     0   \n",
       "..         ...         ...    ...  ...    ...   ...     ...   ...   ...   \n",
       "859          0           4      0  ...      0     0       0     0     1   \n",
       "860          0           5      0  ...      0     0       0     0     1   \n",
       "861          0           4      0  ...      0     1       0     0     1   \n",
       "862          0           3      0  ...      0     0       0     0     0   \n",
       "863          0           2      0  ...      0     0       0     0     1   \n",
       "864          0           4      0  ...      0     0       0     0     1   \n",
       "865          0           5      0  ...      0     0       0     0     1   \n",
       "866          0           2      0  ...      0     0       0     0     1   \n",
       "867          0           3      0  ...      0     0       0     0     1   \n",
       "868          0           8      0  ...      0     0       0     0     1   \n",
       "869          0           8      0  ...      0     0       0     0     1   \n",
       "870          0           3      0  ...      0     0       0     0     1   \n",
       "871          0           2      0  ...      0     0       0     0     1   \n",
       "872          0          28      2  ...      0     0       1     0     3   \n",
       "873          0           4      0  ...      0     0       0     0     0   \n",
       "874          1          20      1  ...      0     1       0     0     1   \n",
       "875          0          76      3  ...      2     0       3     0     2   \n",
       "876          0           2      0  ...      0     1       1     0     1   \n",
       "877          0           7      2  ...      0     1       1     0     1   \n",
       "878          0           7      0  ...      0     1       1     0     0   \n",
       "879          0           2      2  ...      1     1       0     1     1   \n",
       "880          0           2      1  ...      0     1       1     0     0   \n",
       "881          0           2      3  ...      0     1       2     0     1   \n",
       "882          0           4      1  ...      0     1       1     0     1   \n",
       "883          1           4      0  ...      0     1       0     0     0   \n",
       "884          0           0      0  ...      0     1       0     0     1   \n",
       "885          0           2      0  ...      0     0       0     0     1   \n",
       "886          0           2      0  ...      1     0       0     0     1   \n",
       "887         94           4      2  ...      0     0       3     0     3   \n",
       "888          0           3      2  ...      1     0       1     0     0   \n",
       "\n",
       "     restaurant  like  group  note  post shared/post posted rate  \n",
       "0             2   101      2   yes                           0.1  \n",
       "1             6   550     19    no                           0.1  \n",
       "2            17   318     23   yes                           0.5  \n",
       "3             0   900     32   yes                           0.3  \n",
       "4             0    15      2    no                           0.1  \n",
       "5             0    44      3    no                           0.5  \n",
       "6             0    42      2    no                           0.2  \n",
       "7             0   140      4    no                           0.0  \n",
       "8             0   130    122   yes                           0.1  \n",
       "9             0   454     36   yes                           0.0  \n",
       "10            2   274     78    no                           0.1  \n",
       "11            0   591     34   yes                           0.3  \n",
       "12            7   831     84    no                           0.9  \n",
       "13            1   561      3   yes                           0.5  \n",
       "14            0   104     22    no                           0.1  \n",
       "15            0    43      0    no                           0.2  \n",
       "16            0    23     33   yes                           0.3  \n",
       "17            7   817     19    no                           0.3  \n",
       "18            0    80      1   yes                           0.4  \n",
       "19            2   841     36    no                           0.2  \n",
       "20            1    54      6    no                           0.1  \n",
       "21            0    91      7    no                           0.2  \n",
       "22            7   435      3    no                           0.1  \n",
       "23            2   306     16   yes                           0.0  \n",
       "24            1    71     20   yes                           0.2  \n",
       "25            0  4149    199    no                           0.4  \n",
       "26            0   282      4    no                           0.4  \n",
       "27            3   406     13   yes                           0.1  \n",
       "28            7   873     31   yes                           0.2  \n",
       "29            0   164     31    no                           0.2  \n",
       "..          ...   ...    ...   ...                           ...  \n",
       "859           0    22      0    no                           0.5  \n",
       "860           0    27      0    no                           0.5  \n",
       "861           0    25      0    no                           0.5  \n",
       "862           0    20      0    no                           0.5  \n",
       "863           0    23      0    no                           0.9  \n",
       "864           0    21      0    no                           0.7  \n",
       "865           0     4      0    no                           0.4  \n",
       "866           0    21      0    no                           0.5  \n",
       "867           0    23      0    no                           0.5  \n",
       "868           0    18      0    no                           0.5  \n",
       "869           0    21      0    no                           0.2  \n",
       "870           0     4      0    no                           0.3  \n",
       "871           0     6      0    no                           0.7  \n",
       "872           0   154      3    no                           0.1  \n",
       "873           0     0      2    no                           0.0  \n",
       "874           0   195     16    no                           0.5  \n",
       "875           0   586      3    no                           0.0  \n",
       "876           0    43      2    no                           0.1  \n",
       "877           0    75      2    no                           0.0  \n",
       "878           0    60      2    no                           0.0  \n",
       "879           0    57      3    no                           0.0  \n",
       "880           0    41      0    no                           0.0  \n",
       "881           0   125      1    no                           0.1  \n",
       "882           0    54      0    no                           0.0  \n",
       "883           0    72      0    no                           0.0  \n",
       "884           0    49      2    no                           0.0  \n",
       "885           0    45      0   yes                           0.0  \n",
       "886           0    94      3    no                           0.7  \n",
       "887           4   311      1    no                           0.9  \n",
       "888           0    79      0    no                           0.8  \n",
       "\n",
       "[889 rows x 23 columns]>"
      ]
     },
     "execution_count": 6,
     "metadata": {},
     "output_type": "execute_result"
    }
   ],
   "source": [
    "df_facebook.head"
   ]
  },
  {
   "cell_type": "code",
   "execution_count": 7,
   "metadata": {},
   "outputs": [
    {
     "data": {
      "text/plain": [
       "Index(['Status', 'No Friend', 'education', 'about me', 'family', 'gender',\n",
       "       'relationship', 'phototag*', 'photopost*', 'video', 'checkin', 'sport',\n",
       "       'player', 'music', 'film', 'series', 'book', 'game', 'restaurant',\n",
       "       'like', 'group', 'note', 'post shared/post posted rate'],\n",
       "      dtype='object')"
      ]
     },
     "execution_count": 7,
     "metadata": {},
     "output_type": "execute_result"
    }
   ],
   "source": [
    "df_facebook.columns"
   ]
  },
  {
   "cell_type": "code",
   "execution_count": 9,
   "metadata": {},
   "outputs": [
    {
     "data": {
      "text/plain": [
       "count      889\n",
       "unique       2\n",
       "top       real\n",
       "freq       454\n",
       "Name: Status, dtype: object"
      ]
     },
     "execution_count": 9,
     "metadata": {},
     "output_type": "execute_result"
    }
   ],
   "source": [
    "df_facebook['Status'].describe()"
   ]
  },
  {
   "cell_type": "code",
   "execution_count": 10,
   "metadata": {},
   "outputs": [
    {
     "data": {
      "text/plain": [
       "count     889.000000\n",
       "mean      675.361080\n",
       "std       799.834974\n",
       "min         1.000000\n",
       "25%       250.000000\n",
       "50%       452.000000\n",
       "75%       779.000000\n",
       "max      4998.000000\n",
       "Name: No Friend, dtype: float64"
      ]
     },
     "execution_count": 10,
     "metadata": {},
     "output_type": "execute_result"
    }
   ],
   "source": [
    "df_facebook['No Friend'].describe()"
   ]
  },
  {
   "cell_type": "code",
   "execution_count": 11,
   "metadata": {},
   "outputs": [
    {
     "data": {
      "text/plain": [
       "count     889\n",
       "unique      4\n",
       "top        no\n",
       "freq      392\n",
       "Name: education, dtype: object"
      ]
     },
     "execution_count": 11,
     "metadata": {},
     "output_type": "execute_result"
    }
   ],
   "source": [
    "df_facebook['education'].describe()"
   ]
  },
  {
   "cell_type": "code",
   "execution_count": 12,
   "metadata": {},
   "outputs": [
    {
     "name": "stdout",
     "output_type": "stream",
     "text": [
      "<class 'pandas.core.frame.DataFrame'>\n",
      "RangeIndex: 889 entries, 0 to 888\n",
      "Data columns (total 23 columns):\n",
      "Status                          889 non-null object\n",
      "No Friend                       889 non-null int64\n",
      "education                       889 non-null object\n",
      "about me                        889 non-null object\n",
      "family                          889 non-null object\n",
      "gender                          889 non-null object\n",
      "relationship                    889 non-null object\n",
      "phototag*                       889 non-null int64\n",
      "photopost*                      889 non-null int64\n",
      "video                           889 non-null int64\n",
      "checkin                         889 non-null int64\n",
      "sport                           888 non-null float64\n",
      "player                          889 non-null int64\n",
      "music                           889 non-null int64\n",
      "film                            889 non-null int64\n",
      "series                          889 non-null int64\n",
      "book                            889 non-null int64\n",
      "game                            889 non-null int64\n",
      "restaurant                      889 non-null int64\n",
      "like                            889 non-null int64\n",
      "group                           889 non-null int64\n",
      "note                            889 non-null object\n",
      "post shared/post posted rate    889 non-null float64\n",
      "dtypes: float64(2), int64(14), object(7)\n",
      "memory usage: 159.8+ KB\n"
     ]
    }
   ],
   "source": [
    "df_facebook.info()"
   ]
  },
  {
   "cell_type": "code",
   "execution_count": 13,
   "metadata": {},
   "outputs": [
    {
     "data": {
      "text/plain": [
       "Status                          0\n",
       "No Friend                       0\n",
       "education                       0\n",
       "about me                        0\n",
       "family                          0\n",
       "gender                          0\n",
       "relationship                    0\n",
       "phototag*                       0\n",
       "photopost*                      0\n",
       "video                           0\n",
       "checkin                         0\n",
       "sport                           1\n",
       "player                          0\n",
       "music                           0\n",
       "film                            0\n",
       "series                          0\n",
       "book                            0\n",
       "game                            0\n",
       "restaurant                      0\n",
       "like                            0\n",
       "group                           0\n",
       "note                            0\n",
       "post shared/post posted rate    0\n",
       "dtype: int64"
      ]
     },
     "execution_count": 13,
     "metadata": {},
     "output_type": "execute_result"
    }
   ],
   "source": [
    "df_facebook.isnull().sum()"
   ]
  },
  {
   "cell_type": "code",
   "execution_count": 14,
   "metadata": {},
   "outputs": [
    {
     "data": {
      "text/plain": [
       "(889, 23)"
      ]
     },
     "execution_count": 14,
     "metadata": {},
     "output_type": "execute_result"
    }
   ],
   "source": [
    "df_facebook.shape"
   ]
  },
  {
   "cell_type": "code",
   "execution_count": 15,
   "metadata": {},
   "outputs": [
    {
     "data": {
      "text/plain": [
       "<seaborn.axisgrid.FacetGrid at 0x2ae1a4c5a58>"
      ]
     },
     "execution_count": 15,
     "metadata": {},
     "output_type": "execute_result"
    },
    {
     "data": {
      "image/png": "[encoded data removed]",
      "text/plain": [
       "<Figure size 360x360 with 1 Axes>"
      ]
     },
     "metadata": {
      "needs_background": "light"
     },
     "output_type": "display_data"
    }
   ],
   "source": [
    "import numpy as np\n",
    "chart = sns.catplot(\n",
    "    data=df_facebook,\n",
    "    kind='count',\n",
    "    x='Status'\n",
    ")\n",
    "chart.set_xticklabels(rotation=65, horizontalalignment='right')\n"
   ]
  },
  {
   "cell_type": "markdown",
   "metadata": {},
   "source": [
    "# Dataset 2- Real and Fake news\n"
   ]
  },
  {
   "cell_type": "code",
   "execution_count": 17,
   "metadata": {},
   "outputs": [],
   "source": [
    "df_news= pd.read_csv('news.csv')"
   ]
  },
  {
   "cell_type": "code",
   "execution_count": 18,
   "metadata": {},
   "outputs": [
    {
     "data": {
      "text/html": [
       "<div>\n",
       "<style scoped>\n",
       "    .dataframe tbody tr th:only-of-type {\n",
       "        vertical-align: middle;\n",
       "    }\n",
       "\n",
       "    .dataframe tbody tr th {\n",
       "        vertical-align: top;\n",
       "    }\n",
       "\n",
       "    .dataframe thead th {\n",
       "        text-align: right;\n",
       "    }\n",
       "</style>\n",
       "<table border=\"1\" class=\"dataframe\">\n",
       "  <thead>\n",
       "    <tr style=\"text-align: right;\">\n",
       "      <th></th>\n",
       "      <th>Unnamed: 0</th>\n",
       "      <th>title</th>\n",
       "      <th>text</th>\n",
       "      <th>label</th>\n",
       "    </tr>\n",
       "  </thead>\n",
       "  <tbody>\n",
       "    <tr>\n",
       "      <th>0</th>\n",
       "      <td>8476</td>\n",
       "      <td>You Can Smell Hillary’s Fear</td>\n",
       "      <td>Daniel Greenfield, a Shillman Journalism Fello...</td>\n",
       "      <td>FAKE</td>\n",
       "    </tr>\n",
       "    <tr>\n",
       "      <th>1</th>\n",
       "      <td>10294</td>\n",
       "      <td>Watch The Exact Moment Paul Ryan Committed Pol...</td>\n",
       "      <td>Google Pinterest Digg Linkedin Reddit Stumbleu...</td>\n",
       "      <td>FAKE</td>\n",
       "    </tr>\n",
       "    <tr>\n",
       "      <th>2</th>\n",
       "      <td>3608</td>\n",
       "      <td>Kerry to go to Paris in gesture of sympathy</td>\n",
       "      <td>U.S. Secretary of State John F. Kerry said Mon...</td>\n",
       "      <td>REAL</td>\n",
       "    </tr>\n",
       "    <tr>\n",
       "      <th>3</th>\n",
       "      <td>10142</td>\n",
       "      <td>Bernie supporters on Twitter erupt in anger ag...</td>\n",
       "      <td>— Kaydee King (@KaydeeKing) November 9, 2016 T...</td>\n",
       "      <td>FAKE</td>\n",
       "    </tr>\n",
       "    <tr>\n",
       "      <th>4</th>\n",
       "      <td>875</td>\n",
       "      <td>The Battle of New York: Why This Primary Matters</td>\n",
       "      <td>It's primary day in New York and front-runners...</td>\n",
       "      <td>REAL</td>\n",
       "    </tr>\n",
       "  </tbody>\n",
       "</table>\n",
       "</div>"
      ],
      "text/plain": [
       "   Unnamed: 0                                              title  \\\n",
       "0        8476                       You Can Smell Hillary’s Fear   \n",
       "1       10294  Watch The Exact Moment Paul Ryan Committed Pol...   \n",
       "2        3608        Kerry to go to Paris in gesture of sympathy   \n",
       "3       10142  Bernie supporters on Twitter erupt in anger ag...   \n",
       "4         875   The Battle of New York: Why This Primary Matters   \n",
       "\n",
       "                                                text label  \n",
       "0  Daniel Greenfield, a Shillman Journalism Fello...  FAKE  \n",
       "1  Google Pinterest Digg Linkedin Reddit Stumbleu...  FAKE  \n",
       "2  U.S. Secretary of State John F. Kerry said Mon...  REAL  \n",
       "3  — Kaydee King (@KaydeeKing) November 9, 2016 T...  FAKE  \n",
       "4  It's primary day in New York and front-runners...  REAL  "
      ]
     },
     "execution_count": 18,
     "metadata": {},
     "output_type": "execute_result"
    }
   ],
   "source": [
    "df_news.head()"
   ]
  },
  {
   "cell_type": "code",
   "execution_count": 19,
   "metadata": {},
   "outputs": [
    {
     "name": "stdout",
     "output_type": "stream",
     "text": [
      "<class 'pandas.core.frame.DataFrame'>\n",
      "RangeIndex: 6335 entries, 0 to 6334\n",
      "Data columns (total 4 columns):\n",
      "Unnamed: 0    6335 non-null int64\n",
      "title         6335 non-null object\n",
      "text          6335 non-null object\n",
      "label         6335 non-null object\n",
      "dtypes: int64(1), object(3)\n",
      "memory usage: 198.0+ KB\n"
     ]
    }
   ],
   "source": [
    "df_news.info()"
   ]
  },
  {
   "cell_type": "code",
   "execution_count": 20,
   "metadata": {},
   "outputs": [
    {
     "data": {
      "text/plain": [
       "(6335, 4)"
      ]
     },
     "execution_count": 20,
     "metadata": {},
     "output_type": "execute_result"
    }
   ],
   "source": [
    "df_news.shape"
   ]
  },
  {
   "cell_type": "code",
   "execution_count": 22,
   "metadata": {},
   "outputs": [
    {
     "data": {
      "text/plain": [
       "Index(['Unnamed: 0', 'title', 'text', 'label'], dtype='object')"
      ]
     },
     "execution_count": 22,
     "metadata": {},
     "output_type": "execute_result"
    }
   ],
   "source": [
    "df_news.columns"
   ]
  },
  {
   "cell_type": "code",
   "execution_count": 23,
   "metadata": {},
   "outputs": [
    {
     "data": {
      "text/plain": [
       "<seaborn.axisgrid.FacetGrid at 0x2ae1bb83cc0>"
      ]
     },
     "execution_count": 23,
     "metadata": {},
     "output_type": "execute_result"
    },
    {
     "data": {
      "image/png": "[encoded data removed]",
      "text/plain": [
       "<Figure size 360x360 with 1 Axes>"
      ]
     },
     "metadata": {
      "needs_background": "light"
     },
     "output_type": "display_data"
    }
   ],
   "source": [
    "chart = sns.catplot(\n",
    "    data=df_news,\n",
    "    kind='count',\n",
    "    x='label'\n",
    ")\n",
    "chart.set_xticklabels(rotation=65, horizontalalignment='right')\n"
   ]
  },
  {
   "cell_type": "markdown",
   "metadata": {},
   "source": [
    "# Datasets SMS"
   ]
  },
  {
   "cell_type": "code",
   "execution_count": 24,
   "metadata": {},
   "outputs": [],
   "source": [
    "df_SMS= pd.read_csv('SMS.csv')"
   ]
  },
  {
   "cell_type": "code",
   "execution_count": 29,
   "metadata": {},
   "outputs": [
    {
     "data": {
      "text/html": [
       "<div>\n",
       "<style scoped>\n",
       "    .dataframe tbody tr th:only-of-type {\n",
       "        vertical-align: middle;\n",
       "    }\n",
       "\n",
       "    .dataframe tbody tr th {\n",
       "        vertical-align: top;\n",
       "    }\n",
       "\n",
       "    .dataframe thead th {\n",
       "        text-align: right;\n",
       "    }\n",
       "</style>\n",
       "<table border=\"1\" class=\"dataframe\">\n",
       "  <thead>\n",
       "    <tr style=\"text-align: right;\">\n",
       "      <th></th>\n",
       "      <th>Label</th>\n",
       "      <th>Message</th>\n",
       "    </tr>\n",
       "  </thead>\n",
       "  <tbody>\n",
       "    <tr>\n",
       "      <th>0</th>\n",
       "      <td>spam</td>\n",
       "      <td>Dear Student, Its never too late-clear your ba...</td>\n",
       "    </tr>\n",
       "    <tr>\n",
       "      <th>1</th>\n",
       "      <td>spam</td>\n",
       "      <td>Join V-STUDY and score excellent marks in clas...</td>\n",
       "    </tr>\n",
       "    <tr>\n",
       "      <th>2</th>\n",
       "      <td>spam</td>\n",
       "      <td>Join crash courses for B.ST,A/C'S,ECO,ENG,&amp;IP ...</td>\n",
       "    </tr>\n",
       "    <tr>\n",
       "      <th>3</th>\n",
       "      <td>spam</td>\n",
       "      <td>CRASH COURSES by BEST POOL OF FACULTY. ENGLISH...</td>\n",
       "    </tr>\n",
       "    <tr>\n",
       "      <th>4</th>\n",
       "      <td>ham</td>\n",
       "      <td>Dear Ola Shuttle user, get 60% Off on your nex...</td>\n",
       "    </tr>\n",
       "  </tbody>\n",
       "</table>\n",
       "</div>"
      ],
      "text/plain": [
       "  Label                                            Message\n",
       "0  spam  Dear Student, Its never too late-clear your ba...\n",
       "1  spam  Join V-STUDY and score excellent marks in clas...\n",
       "2  spam  Join crash courses for B.ST,A/C'S,ECO,ENG,&IP ...\n",
       "3  spam  CRASH COURSES by BEST POOL OF FACULTY. ENGLISH...\n",
       "4   ham  Dear Ola Shuttle user, get 60% Off on your nex..."
      ]
     },
     "execution_count": 29,
     "metadata": {},
     "output_type": "execute_result"
    }
   ],
   "source": [
    "df_SMS.head()"
   ]
  },
  {
   "cell_type": "code",
   "execution_count": 27,
   "metadata": {},
   "outputs": [
    {
     "name": "stdout",
     "output_type": "stream",
     "text": [
      "<class 'pandas.core.frame.DataFrame'>\n",
      "RangeIndex: 184 entries, 0 to 183\n",
      "Data columns (total 2 columns):\n",
      "Label      184 non-null object\n",
      "Message    184 non-null object\n",
      "dtypes: object(2)\n",
      "memory usage: 3.0+ KB\n"
     ]
    }
   ],
   "source": [
    "df_SMS.info()"
   ]
  },
  {
   "cell_type": "code",
   "execution_count": 28,
   "metadata": {},
   "outputs": [
    {
     "data": {
      "text/html": [
       "<div>\n",
       "<style scoped>\n",
       "    .dataframe tbody tr th:only-of-type {\n",
       "        vertical-align: middle;\n",
       "    }\n",
       "\n",
       "    .dataframe tbody tr th {\n",
       "        vertical-align: top;\n",
       "    }\n",
       "\n",
       "    .dataframe thead th {\n",
       "        text-align: right;\n",
       "    }\n",
       "</style>\n",
       "<table border=\"1\" class=\"dataframe\">\n",
       "  <thead>\n",
       "    <tr style=\"text-align: right;\">\n",
       "      <th></th>\n",
       "      <th>Label</th>\n",
       "      <th>Message</th>\n",
       "    </tr>\n",
       "  </thead>\n",
       "  <tbody>\n",
       "    <tr>\n",
       "      <th>count</th>\n",
       "      <td>184</td>\n",
       "      <td>184</td>\n",
       "    </tr>\n",
       "    <tr>\n",
       "      <th>unique</th>\n",
       "      <td>2</td>\n",
       "      <td>172</td>\n",
       "    </tr>\n",
       "    <tr>\n",
       "      <th>top</th>\n",
       "      <td>spam</td>\n",
       "      <td>Welcome to Jio-UP. Enjoy Free Incoming calls a...</td>\n",
       "    </tr>\n",
       "    <tr>\n",
       "      <th>freq</th>\n",
       "      <td>107</td>\n",
       "      <td>3</td>\n",
       "    </tr>\n",
       "  </tbody>\n",
       "</table>\n",
       "</div>"
      ],
      "text/plain": [
       "       Label                                            Message\n",
       "count    184                                                184\n",
       "unique     2                                                172\n",
       "top     spam  Welcome to Jio-UP. Enjoy Free Incoming calls a...\n",
       "freq     107                                                  3"
      ]
     },
     "execution_count": 28,
     "metadata": {},
     "output_type": "execute_result"
    }
   ],
   "source": [
    "df_SMS.describe()"
   ]
  },
  {
   "cell_type": "code",
   "execution_count": 31,
   "metadata": {},
   "outputs": [
    {
     "data": {
      "text/plain": [
       "Label      184\n",
       "Message    184\n",
       "dtype: int64"
      ]
     },
     "execution_count": 31,
     "metadata": {},
     "output_type": "execute_result"
    }
   ],
   "source": [
    "df_SMS.count()"
   ]
  },
  {
   "cell_type": "markdown",
   "metadata": {},
   "source": [
    "# SPAM and HAM dataset"
   ]
  },
  {
   "cell_type": "code",
   "execution_count": 34,
   "metadata": {},
   "outputs": [],
   "source": [
    "df_spam=pd.read_csv('spam.csv', encoding = \"ISO-8859-1\")"
   ]
  },
  {
   "cell_type": "code",
   "execution_count": 35,
   "metadata": {},
   "outputs": [
    {
     "data": {
      "text/html": [
       "<div>\n",
       "<style scoped>\n",
       "    .dataframe tbody tr th:only-of-type {\n",
       "        vertical-align: middle;\n",
       "    }\n",
       "\n",
       "    .dataframe tbody tr th {\n",
       "        vertical-align: top;\n",
       "    }\n",
       "\n",
       "    .dataframe thead th {\n",
       "        text-align: right;\n",
       "    }\n",
       "</style>\n",
       "<table border=\"1\" class=\"dataframe\">\n",
       "  <thead>\n",
       "    <tr style=\"text-align: right;\">\n",
       "      <th></th>\n",
       "      <th>v1</th>\n",
       "      <th>v2</th>\n",
       "      <th>Unnamed: 2</th>\n",
       "      <th>Unnamed: 3</th>\n",
       "      <th>Unnamed: 4</th>\n",
       "    </tr>\n",
       "  </thead>\n",
       "  <tbody>\n",
       "    <tr>\n",
       "      <th>0</th>\n",
       "      <td>ham</td>\n",
       "      <td>Go until jurong point, crazy.. Available only ...</td>\n",
       "      <td>NaN</td>\n",
       "      <td>NaN</td>\n",
       "      <td>NaN</td>\n",
       "    </tr>\n",
       "    <tr>\n",
       "      <th>1</th>\n",
       "      <td>ham</td>\n",
       "      <td>Ok lar... Joking wif u oni...</td>\n",
       "      <td>NaN</td>\n",
       "      <td>NaN</td>\n",
       "      <td>NaN</td>\n",
       "    </tr>\n",
       "    <tr>\n",
       "      <th>2</th>\n",
       "      <td>spam</td>\n",
       "      <td>Free entry in 2 a wkly comp to win FA Cup fina...</td>\n",
       "      <td>NaN</td>\n",
       "      <td>NaN</td>\n",
       "      <td>NaN</td>\n",
       "    </tr>\n",
       "    <tr>\n",
       "      <th>3</th>\n",
       "      <td>ham</td>\n",
       "      <td>U dun say so early hor... U c already then say...</td>\n",
       "      <td>NaN</td>\n",
       "      <td>NaN</td>\n",
       "      <td>NaN</td>\n",
       "    </tr>\n",
       "    <tr>\n",
       "      <th>4</th>\n",
       "      <td>ham</td>\n",
       "      <td>Nah I don't think he goes to usf, he lives aro...</td>\n",
       "      <td>NaN</td>\n",
       "      <td>NaN</td>\n",
       "      <td>NaN</td>\n",
       "    </tr>\n",
       "  </tbody>\n",
       "</table>\n",
       "</div>"
      ],
      "text/plain": [
       "     v1                                                 v2 Unnamed: 2  \\\n",
       "0   ham  Go until jurong point, crazy.. Available only ...        NaN   \n",
       "1   ham                      Ok lar... Joking wif u oni...        NaN   \n",
       "2  spam  Free entry in 2 a wkly comp to win FA Cup fina...        NaN   \n",
       "3   ham  U dun say so early hor... U c already then say...        NaN   \n",
       "4   ham  Nah I don't think he goes to usf, he lives aro...        NaN   \n",
       "\n",
       "  Unnamed: 3 Unnamed: 4  \n",
       "0        NaN        NaN  \n",
       "1        NaN        NaN  \n",
       "2        NaN        NaN  \n",
       "3        NaN        NaN  \n",
       "4        NaN        NaN  "
      ]
     },
     "execution_count": 35,
     "metadata": {},
     "output_type": "execute_result"
    }
   ],
   "source": [
    "df_spam.head()"
   ]
  },
  {
   "cell_type": "code",
   "execution_count": 36,
   "metadata": {},
   "outputs": [
    {
     "name": "stdout",
     "output_type": "stream",
     "text": [
      "<class 'pandas.core.frame.DataFrame'>\n",
      "RangeIndex: 5572 entries, 0 to 5571\n",
      "Data columns (total 5 columns):\n",
      "v1            5572 non-null object\n",
      "v2            5572 non-null object\n",
      "Unnamed: 2    50 non-null object\n",
      "Unnamed: 3    12 non-null object\n",
      "Unnamed: 4    6 non-null object\n",
      "dtypes: object(5)\n",
      "memory usage: 217.7+ KB\n"
     ]
    }
   ],
   "source": [
    "df_spam.info()"
   ]
  },
  {
   "cell_type": "code",
   "execution_count": 37,
   "metadata": {},
   "outputs": [
    {
     "data": {
      "text/html": [
       "<div>\n",
       "<style scoped>\n",
       "    .dataframe tbody tr th:only-of-type {\n",
       "        vertical-align: middle;\n",
       "    }\n",
       "\n",
       "    .dataframe tbody tr th {\n",
       "        vertical-align: top;\n",
       "    }\n",
       "\n",
       "    .dataframe thead th {\n",
       "        text-align: right;\n",
       "    }\n",
       "</style>\n",
       "<table border=\"1\" class=\"dataframe\">\n",
       "  <thead>\n",
       "    <tr style=\"text-align: right;\">\n",
       "      <th></th>\n",
       "      <th>v1</th>\n",
       "      <th>v2</th>\n",
       "      <th>Unnamed: 2</th>\n",
       "      <th>Unnamed: 3</th>\n",
       "      <th>Unnamed: 4</th>\n",
       "    </tr>\n",
       "  </thead>\n",
       "  <tbody>\n",
       "    <tr>\n",
       "      <th>count</th>\n",
       "      <td>5572</td>\n",
       "      <td>5572</td>\n",
       "      <td>50</td>\n",
       "      <td>12</td>\n",
       "      <td>6</td>\n",
       "    </tr>\n",
       "    <tr>\n",
       "      <th>unique</th>\n",
       "      <td>2</td>\n",
       "      <td>5169</td>\n",
       "      <td>43</td>\n",
       "      <td>10</td>\n",
       "      <td>5</td>\n",
       "    </tr>\n",
       "    <tr>\n",
       "      <th>top</th>\n",
       "      <td>ham</td>\n",
       "      <td>Sorry, I'll call later</td>\n",
       "      <td>bt not his girlfrnd... G o o d n i g h t . . .@\"</td>\n",
       "      <td>GE</td>\n",
       "      <td>GNT:-)\"</td>\n",
       "    </tr>\n",
       "    <tr>\n",
       "      <th>freq</th>\n",
       "      <td>4825</td>\n",
       "      <td>30</td>\n",
       "      <td>3</td>\n",
       "      <td>2</td>\n",
       "      <td>2</td>\n",
       "    </tr>\n",
       "  </tbody>\n",
       "</table>\n",
       "</div>"
      ],
      "text/plain": [
       "          v1                      v2  \\\n",
       "count   5572                    5572   \n",
       "unique     2                    5169   \n",
       "top      ham  Sorry, I'll call later   \n",
       "freq    4825                      30   \n",
       "\n",
       "                                               Unnamed: 2 Unnamed: 3  \\\n",
       "count                                                  50         12   \n",
       "unique                                                 43         10   \n",
       "top      bt not his girlfrnd... G o o d n i g h t . . .@\"         GE   \n",
       "freq                                                    3          2   \n",
       "\n",
       "       Unnamed: 4  \n",
       "count           6  \n",
       "unique          5  \n",
       "top       GNT:-)\"  \n",
       "freq            2  "
      ]
     },
     "execution_count": 37,
     "metadata": {},
     "output_type": "execute_result"
    }
   ],
   "source": [
    "df_spam.describe()"
   ]
  },
  {
   "cell_type": "code",
   "execution_count": 38,
   "metadata": {},
   "outputs": [
    {
     "data": {
      "text/plain": [
       "v1            5572\n",
       "v2            5572\n",
       "Unnamed: 2      50\n",
       "Unnamed: 3      12\n",
       "Unnamed: 4       6\n",
       "dtype: int64"
      ]
     },
     "execution_count": 38,
     "metadata": {},
     "output_type": "execute_result"
    }
   ],
   "source": [
    "df_spam.count()"
   ]
  },
  {
   "cell_type": "code",
   "execution_count": 39,
   "metadata": {},
   "outputs": [
    {
     "data": {
      "text/plain": [
       "v1            5572\n",
       "v2            5572\n",
       "Unnamed: 2      50\n",
       "Unnamed: 3      12\n",
       "Unnamed: 4       6\n",
       "dtype: int64"
      ]
     },
     "execution_count": 39,
     "metadata": {},
     "output_type": "execute_result"
    }
   ],
   "source": [
    "df_spam.count()"
   ]
  },
  {
   "cell_type": "code",
   "execution_count": 40,
   "metadata": {},
   "outputs": [
    {
     "data": {
      "text/plain": [
       "<seaborn.axisgrid.FacetGrid at 0x2ae1bdb1e10>"
      ]
     },
     "execution_count": 40,
     "metadata": {},
     "output_type": "execute_result"
    },
    {
     "data": {
      "image/png": "[encoded data removed]",
      "text/plain": [
       "<Figure size 360x360 with 1 Axes>"
      ]
     },
     "metadata": {
      "needs_background": "light"
     },
     "output_type": "display_data"
    }
   ],
   "source": [
    "chart = sns.catplot(\n",
    "    data=df_spam,\n",
    "    kind='count',\n",
    "    x='v1'\n",
    ")\n",
    "chart.set_xticklabels(rotation=65, horizontalalignment='right')\n"
   ]
  },
  {
   "cell_type": "markdown",
   "metadata": {},
   "source": [
    "# CICS Dataset"
   ]
  },
  {
   "cell_type": "code",
   "execution_count": 5,
   "metadata": {},
   "outputs": [],
   "source": [
    "df_csic=pd.read_csv('csic_database.csv')"
   ]
  },
  {
   "cell_type": "code",
   "execution_count": 4,
   "metadata": {},
   "outputs": [
    {
     "data": {
      "text/html": [
       "<div>\n",
       "<style scoped>\n",
       "    .dataframe tbody tr th:only-of-type {\n",
       "        vertical-align: middle;\n",
       "    }\n",
       "\n",
       "    .dataframe tbody tr th {\n",
       "        vertical-align: top;\n",
       "    }\n",
       "\n",
       "    .dataframe thead th {\n",
       "        text-align: right;\n",
       "    }\n",
       "</style>\n",
       "<table border=\"1\" class=\"dataframe\">\n",
       "  <thead>\n",
       "    <tr style=\"text-align: right;\">\n",
       "      <th></th>\n",
       "      <th>Unnamed: 0</th>\n",
       "      <th>Method</th>\n",
       "      <th>User-Agent</th>\n",
       "      <th>Pragma</th>\n",
       "      <th>Cache-Control</th>\n",
       "      <th>Accept</th>\n",
       "      <th>Accept-encoding</th>\n",
       "      <th>Accept-charset</th>\n",
       "      <th>language</th>\n",
       "      <th>host</th>\n",
       "      <th>cookie</th>\n",
       "      <th>content-type</th>\n",
       "      <th>connection</th>\n",
       "      <th>lenght</th>\n",
       "      <th>content</th>\n",
       "      <th>classification</th>\n",
       "      <th>URL</th>\n",
       "    </tr>\n",
       "  </thead>\n",
       "  <tbody>\n",
       "    <tr>\n",
       "      <th>0</th>\n",
       "      <td>Normal</td>\n",
       "      <td>GET</td>\n",
       "      <td>Mozilla/5.0 (compatible; Konqueror/3.5; Linux)...</td>\n",
       "      <td>no-cache</td>\n",
       "      <td>no-cache</td>\n",
       "      <td>text/xml,application/xml,application/xhtml+xml...</td>\n",
       "      <td>x-gzip, x-deflate, gzip, deflate</td>\n",
       "      <td>utf-8, utf-8;q=0.5, *;q=0.5</td>\n",
       "      <td>en</td>\n",
       "      <td>localhost:8080</td>\n",
       "      <td>JSESSIONID=1F767F17239C9B670A39E9B10C3825F4</td>\n",
       "      <td>NaN</td>\n",
       "      <td>close</td>\n",
       "      <td>NaN</td>\n",
       "      <td>NaN</td>\n",
       "      <td>0</td>\n",
       "      <td>http://localhost:8080/tienda1/index.jsp HTTP/1.1</td>\n",
       "    </tr>\n",
       "    <tr>\n",
       "      <th>1</th>\n",
       "      <td>Normal</td>\n",
       "      <td>GET</td>\n",
       "      <td>Mozilla/5.0 (compatible; Konqueror/3.5; Linux)...</td>\n",
       "      <td>no-cache</td>\n",
       "      <td>no-cache</td>\n",
       "      <td>text/xml,application/xml,application/xhtml+xml...</td>\n",
       "      <td>x-gzip, x-deflate, gzip, deflate</td>\n",
       "      <td>utf-8, utf-8;q=0.5, *;q=0.5</td>\n",
       "      <td>en</td>\n",
       "      <td>localhost:8080</td>\n",
       "      <td>JSESSIONID=81761ACA043B0E6014CA42A4BCD06AB5</td>\n",
       "      <td>NaN</td>\n",
       "      <td>close</td>\n",
       "      <td>NaN</td>\n",
       "      <td>NaN</td>\n",
       "      <td>0</td>\n",
       "      <td>http://localhost:8080/tienda1/publico/anadir.j...</td>\n",
       "    </tr>\n",
       "    <tr>\n",
       "      <th>2</th>\n",
       "      <td>Normal</td>\n",
       "      <td>POST</td>\n",
       "      <td>Mozilla/5.0 (compatible; Konqueror/3.5; Linux)...</td>\n",
       "      <td>no-cache</td>\n",
       "      <td>no-cache</td>\n",
       "      <td>text/xml,application/xml,application/xhtml+xml...</td>\n",
       "      <td>x-gzip, x-deflate, gzip, deflate</td>\n",
       "      <td>utf-8, utf-8;q=0.5, *;q=0.5</td>\n",
       "      <td>en</td>\n",
       "      <td>localhost:8080</td>\n",
       "      <td>JSESSIONID=933185092E0B668B90676E0A2B0767AF</td>\n",
       "      <td>application/x-www-form-urlencoded</td>\n",
       "      <td>Connection: close</td>\n",
       "      <td>Content-Length: 68</td>\n",
       "      <td>id=3&amp;nombre=Vino+Rioja&amp;precio=100&amp;cantidad=55&amp;...</td>\n",
       "      <td>0</td>\n",
       "      <td>http://localhost:8080/tienda1/publico/anadir.j...</td>\n",
       "    </tr>\n",
       "    <tr>\n",
       "      <th>3</th>\n",
       "      <td>Normal</td>\n",
       "      <td>GET</td>\n",
       "      <td>Mozilla/5.0 (compatible; Konqueror/3.5; Linux)...</td>\n",
       "      <td>no-cache</td>\n",
       "      <td>no-cache</td>\n",
       "      <td>text/xml,application/xml,application/xhtml+xml...</td>\n",
       "      <td>x-gzip, x-deflate, gzip, deflate</td>\n",
       "      <td>utf-8, utf-8;q=0.5, *;q=0.5</td>\n",
       "      <td>en</td>\n",
       "      <td>localhost:8080</td>\n",
       "      <td>JSESSIONID=8FA18BA82C5336D03D3A8AFA3E68CBB0</td>\n",
       "      <td>NaN</td>\n",
       "      <td>close</td>\n",
       "      <td>NaN</td>\n",
       "      <td>NaN</td>\n",
       "      <td>0</td>\n",
       "      <td>http://localhost:8080/tienda1/publico/autentic...</td>\n",
       "    </tr>\n",
       "    <tr>\n",
       "      <th>4</th>\n",
       "      <td>Normal</td>\n",
       "      <td>POST</td>\n",
       "      <td>Mozilla/5.0 (compatible; Konqueror/3.5; Linux)...</td>\n",
       "      <td>no-cache</td>\n",
       "      <td>no-cache</td>\n",
       "      <td>text/xml,application/xml,application/xhtml+xml...</td>\n",
       "      <td>x-gzip, x-deflate, gzip, deflate</td>\n",
       "      <td>utf-8, utf-8;q=0.5, *;q=0.5</td>\n",
       "      <td>en</td>\n",
       "      <td>localhost:8080</td>\n",
       "      <td>JSESSIONID=7104E6C68A6BCF1423DAE990CE49FEE2</td>\n",
       "      <td>application/x-www-form-urlencoded</td>\n",
       "      <td>Connection: close</td>\n",
       "      <td>Content-Length: 63</td>\n",
       "      <td>modo=entrar&amp;login=choong&amp;pwd=d1se3ci%F3n&amp;remem...</td>\n",
       "      <td>0</td>\n",
       "      <td>http://localhost:8080/tienda1/publico/autentic...</td>\n",
       "    </tr>\n",
       "  </tbody>\n",
       "</table>\n",
       "</div>"
      ],
      "text/plain": [
       "  Unnamed: 0 Method                                         User-Agent  \\\n",
       "0     Normal    GET  Mozilla/5.0 (compatible; Konqueror/3.5; Linux)...   \n",
       "1     Normal    GET  Mozilla/5.0 (compatible; Konqueror/3.5; Linux)...   \n",
       "2     Normal   POST  Mozilla/5.0 (compatible; Konqueror/3.5; Linux)...   \n",
       "3     Normal    GET  Mozilla/5.0 (compatible; Konqueror/3.5; Linux)...   \n",
       "4     Normal   POST  Mozilla/5.0 (compatible; Konqueror/3.5; Linux)...   \n",
       "\n",
       "     Pragma Cache-Control                                             Accept  \\\n",
       "0  no-cache      no-cache  text/xml,application/xml,application/xhtml+xml...   \n",
       "1  no-cache      no-cache  text/xml,application/xml,application/xhtml+xml...   \n",
       "2  no-cache      no-cache  text/xml,application/xml,application/xhtml+xml...   \n",
       "3  no-cache      no-cache  text/xml,application/xml,application/xhtml+xml...   \n",
       "4  no-cache      no-cache  text/xml,application/xml,application/xhtml+xml...   \n",
       "\n",
       "                    Accept-encoding               Accept-charset language  \\\n",
       "0  x-gzip, x-deflate, gzip, deflate  utf-8, utf-8;q=0.5, *;q=0.5       en   \n",
       "1  x-gzip, x-deflate, gzip, deflate  utf-8, utf-8;q=0.5, *;q=0.5       en   \n",
       "2  x-gzip, x-deflate, gzip, deflate  utf-8, utf-8;q=0.5, *;q=0.5       en   \n",
       "3  x-gzip, x-deflate, gzip, deflate  utf-8, utf-8;q=0.5, *;q=0.5       en   \n",
       "4  x-gzip, x-deflate, gzip, deflate  utf-8, utf-8;q=0.5, *;q=0.5       en   \n",
       "\n",
       "             host                                       cookie  \\\n",
       "0  localhost:8080  JSESSIONID=1F767F17239C9B670A39E9B10C3825F4   \n",
       "1  localhost:8080  JSESSIONID=81761ACA043B0E6014CA42A4BCD06AB5   \n",
       "2  localhost:8080  JSESSIONID=933185092E0B668B90676E0A2B0767AF   \n",
       "3  localhost:8080  JSESSIONID=8FA18BA82C5336D03D3A8AFA3E68CBB0   \n",
       "4  localhost:8080  JSESSIONID=7104E6C68A6BCF1423DAE990CE49FEE2   \n",
       "\n",
       "                        content-type         connection              lenght  \\\n",
       "0                                NaN              close                 NaN   \n",
       "1                                NaN              close                 NaN   \n",
       "2  application/x-www-form-urlencoded  Connection: close  Content-Length: 68   \n",
       "3                                NaN              close                 NaN   \n",
       "4  application/x-www-form-urlencoded  Connection: close  Content-Length: 63   \n",
       "\n",
       "                                             content  classification  \\\n",
       "0                                                NaN               0   \n",
       "1                                                NaN               0   \n",
       "2  id=3&nombre=Vino+Rioja&precio=100&cantidad=55&...               0   \n",
       "3                                                NaN               0   \n",
       "4  modo=entrar&login=choong&pwd=d1se3ci%F3n&remem...               0   \n",
       "\n",
       "                                                 URL  \n",
       "0   http://localhost:8080/tienda1/index.jsp HTTP/1.1  \n",
       "1  http://localhost:8080/tienda1/publico/anadir.j...  \n",
       "2  http://localhost:8080/tienda1/publico/anadir.j...  \n",
       "3  http://localhost:8080/tienda1/publico/autentic...  \n",
       "4  http://localhost:8080/tienda1/publico/autentic...  "
      ]
     },
     "execution_count": 4,
     "metadata": {},
     "output_type": "execute_result"
    }
   ],
   "source": [
    "df_csic.head()"
   ]
  },
  {
   "cell_type": "code",
   "execution_count": 7,
   "metadata": {},
   "outputs": [
    {
     "data": {
      "text/html": [
       "<div>\n",
       "<style scoped>\n",
       "    .dataframe tbody tr th:only-of-type {\n",
       "        vertical-align: middle;\n",
       "    }\n",
       "\n",
       "    .dataframe tbody tr th {\n",
       "        vertical-align: top;\n",
       "    }\n",
       "\n",
       "    .dataframe thead th {\n",
       "        text-align: right;\n",
       "    }\n",
       "</style>\n",
       "<table border=\"1\" class=\"dataframe\">\n",
       "  <thead>\n",
       "    <tr style=\"text-align: right;\">\n",
       "      <th></th>\n",
       "      <th>classification</th>\n",
       "    </tr>\n",
       "  </thead>\n",
       "  <tbody>\n",
       "    <tr>\n",
       "      <th>count</th>\n",
       "      <td>61065.000000</td>\n",
       "    </tr>\n",
       "    <tr>\n",
       "      <th>mean</th>\n",
       "      <td>0.410464</td>\n",
       "    </tr>\n",
       "    <tr>\n",
       "      <th>std</th>\n",
       "      <td>0.491922</td>\n",
       "    </tr>\n",
       "    <tr>\n",
       "      <th>min</th>\n",
       "      <td>0.000000</td>\n",
       "    </tr>\n",
       "    <tr>\n",
       "      <th>25%</th>\n",
       "      <td>0.000000</td>\n",
       "    </tr>\n",
       "    <tr>\n",
       "      <th>50%</th>\n",
       "      <td>0.000000</td>\n",
       "    </tr>\n",
       "    <tr>\n",
       "      <th>75%</th>\n",
       "      <td>1.000000</td>\n",
       "    </tr>\n",
       "    <tr>\n",
       "      <th>max</th>\n",
       "      <td>1.000000</td>\n",
       "    </tr>\n",
       "  </tbody>\n",
       "</table>\n",
       "</div>"
      ],
      "text/plain": [
       "       classification\n",
       "count    61065.000000\n",
       "mean         0.410464\n",
       "std          0.491922\n",
       "min          0.000000\n",
       "25%          0.000000\n",
       "50%          0.000000\n",
       "75%          1.000000\n",
       "max          1.000000"
      ]
     },
     "execution_count": 7,
     "metadata": {},
     "output_type": "execute_result"
    }
   ],
   "source": [
    "df_csic.describe()"
   ]
  },
  {
   "cell_type": "code",
   "execution_count": 11,
   "metadata": {},
   "outputs": [
    {
     "data": {
      "text/plain": [
       "Index(['Unnamed: 0', 'Method', 'User-Agent', 'Pragma', 'Cache-Control',\n",
       "       'Accept', 'Accept-encoding', 'Accept-charset', 'language', 'host',\n",
       "       'cookie', 'content-type', 'connection', 'lenght', 'content',\n",
       "       'classification', 'URL'],\n",
       "      dtype='object')"
      ]
     },
     "execution_count": 11,
     "metadata": {},
     "output_type": "execute_result"
    }
   ],
   "source": [
    "df_csic.columns"
   ]
  },
  {
   "cell_type": "code",
   "execution_count": 12,
   "metadata": {},
   "outputs": [
    {
     "data": {
      "text/plain": [
       "<seaborn.axisgrid.FacetGrid at 0x165b014c908>"
      ]
     },
     "execution_count": 12,
     "metadata": {},
     "output_type": "execute_result"
    },
    {
     "data": {
      "image/png": "[encoded data removed]",
      "text/plain": [
       "<Figure size 360x360 with 1 Axes>"
      ]
     },
     "metadata": {
      "needs_background": "light"
     },
     "output_type": "display_data"
    }
   ],
   "source": [
    "chart = sns.catplot(\n",
    "    data=df_csic,\n",
    "    kind='count',\n",
    "    x='Method'\n",
    ")\n",
    "chart.set_xticklabels(rotation=65, horizontalalignment='right')"
   ]
  },
  {
   "cell_type": "code",
   "execution_count": 13,
   "metadata": {},
   "outputs": [
    {
     "data": {
      "text/plain": [
       "Unnamed: 0             0\n",
       "Method                 0\n",
       "User-Agent             0\n",
       "Pragma                 0\n",
       "Cache-Control          0\n",
       "Accept               397\n",
       "Accept-encoding        0\n",
       "Accept-charset         0\n",
       "language               0\n",
       "host                   0\n",
       "cookie                 0\n",
       "content-type       43088\n",
       "connection             0\n",
       "lenght             43088\n",
       "content            43088\n",
       "classification         0\n",
       "URL                    0\n",
       "dtype: int64"
      ]
     },
     "execution_count": 13,
     "metadata": {},
     "output_type": "execute_result"
    }
   ],
   "source": [
    "df_csic.isnull().sum()"
   ]
  },
  {
   "cell_type": "markdown",
   "metadata": {},
   "source": [
    "# BOTWIKI\n"
   ]
  },
  {
   "cell_type": "code",
   "execution_count": 14,
   "metadata": {},
   "outputs": [],
   "source": [
    "df_bot=pd.read_json('botwiki-2019_tweets.json')"
   ]
  },
  {
   "cell_type": "code",
   "execution_count": 15,
   "metadata": {},
   "outputs": [
    {
     "data": {
      "text/html": [
       "<div>\n",
       "<style scoped>\n",
       "    .dataframe tbody tr th:only-of-type {\n",
       "        vertical-align: middle;\n",
       "    }\n",
       "\n",
       "    .dataframe tbody tr th {\n",
       "        vertical-align: top;\n",
       "    }\n",
       "\n",
       "    .dataframe thead th {\n",
       "        text-align: right;\n",
       "    }\n",
       "</style>\n",
       "<table border=\"1\" class=\"dataframe\">\n",
       "  <thead>\n",
       "    <tr style=\"text-align: right;\">\n",
       "      <th></th>\n",
       "      <th>created_at</th>\n",
       "      <th>user</th>\n",
       "    </tr>\n",
       "  </thead>\n",
       "  <tbody>\n",
       "    <tr>\n",
       "      <th>0</th>\n",
       "      <td>2019-06-05 21:43:20</td>\n",
       "      <td>{'id': 969398693249126400, 'id_str': '96939869...</td>\n",
       "    </tr>\n",
       "    <tr>\n",
       "      <th>1</th>\n",
       "      <td>2019-04-02 13:26:02</td>\n",
       "      <td>{'id': 2402022649, 'id_str': '2402022649', 'na...</td>\n",
       "    </tr>\n",
       "    <tr>\n",
       "      <th>2</th>\n",
       "      <td>2019-06-05 20:22:03</td>\n",
       "      <td>{'id': 2976541239, 'id_str': '2976541239', 'na...</td>\n",
       "    </tr>\n",
       "    <tr>\n",
       "      <th>3</th>\n",
       "      <td>2019-06-05 18:56:21</td>\n",
       "      <td>{'id': 4425828741, 'id_str': '4425828741', 'na...</td>\n",
       "    </tr>\n",
       "    <tr>\n",
       "      <th>4</th>\n",
       "      <td>2019-06-05 20:54:02</td>\n",
       "      <td>{'id': 817082622824169472, 'id_str': '81708262...</td>\n",
       "    </tr>\n",
       "  </tbody>\n",
       "</table>\n",
       "</div>"
      ],
      "text/plain": [
       "           created_at                                               user\n",
       "0 2019-06-05 21:43:20  {'id': 969398693249126400, 'id_str': '96939869...\n",
       "1 2019-04-02 13:26:02  {'id': 2402022649, 'id_str': '2402022649', 'na...\n",
       "2 2019-06-05 20:22:03  {'id': 2976541239, 'id_str': '2976541239', 'na...\n",
       "3 2019-06-05 18:56:21  {'id': 4425828741, 'id_str': '4425828741', 'na...\n",
       "4 2019-06-05 20:54:02  {'id': 817082622824169472, 'id_str': '81708262..."
      ]
     },
     "execution_count": 15,
     "metadata": {},
     "output_type": "execute_result"
    }
   ],
   "source": [
    "df_bot.head()"
   ]
  },
  {
   "cell_type": "code",
   "execution_count": 16,
   "metadata": {},
   "outputs": [
    {
     "data": {
      "text/plain": [
       "Index(['created_at', 'user'], dtype='object')"
      ]
     },
     "execution_count": 16,
     "metadata": {},
     "output_type": "execute_result"
    }
   ],
   "source": [
    "df_bot.columns"
   ]
  },
  {
   "cell_type": "code",
   "execution_count": 17,
   "metadata": {},
   "outputs": [
    {
     "data": {
      "text/plain": [
       "0    {'id': 969398693249126400, 'id_str': '96939869...\n",
       "1    {'id': 2402022649, 'id_str': '2402022649', 'na...\n",
       "2    {'id': 2976541239, 'id_str': '2976541239', 'na...\n",
       "3    {'id': 4425828741, 'id_str': '4425828741', 'na...\n",
       "4    {'id': 817082622824169472, 'id_str': '81708262...\n",
       "5    {'id': 742447712105336832, 'id_str': '74244771...\n",
       "6    {'id': 998140589420888064, 'id_str': '99814058...\n",
       "7    {'id': 1020970182582460418, 'id_str': '1020970...\n",
       "8    {'id': 718832664300625921, 'id_str': '71883266...\n",
       "9    {'id': 3304794002, 'id_str': '3304794002', 'na...\n",
       "Name: user, dtype: object"
      ]
     },
     "execution_count": 17,
     "metadata": {},
     "output_type": "execute_result"
    }
   ],
   "source": [
    "df_bot['user'].head(10)"
   ]
  },
  {
   "cell_type": "code",
   "execution_count": 18,
   "metadata": {},
   "outputs": [
    {
     "data": {
      "text/plain": [
       "{'id': 969398693249126400,\n",
       " 'id_str': '969398693249126400',\n",
       " 'name': 'Random Goth Lyric Generator',\n",
       " 'screen_name': 'goth_lyrics',\n",
       " 'location': 'City of Dis',\n",
       " 'description': 'Esoteric dark verse from aeons before twitter crept out of its unholy sepulchre.',\n",
       " 'url': 'https://t.co/s9UkVMDACm',\n",
       " 'entities': {'url': {'urls': [{'url': 'https://t.co/s9UkVMDACm',\n",
       "     'expanded_url': 'https://osric.com/rglg/',\n",
       "     'display_url': 'osric.com/rglg/',\n",
       "     'indices': [0, 23]}]},\n",
       "  'description': {'urls': []}},\n",
       " 'protected': False,\n",
       " 'followers_count': 23,\n",
       " 'friends_count': 8,\n",
       " 'listed_count': 1,\n",
       " 'created_at': 'Fri Mar 02 02:27:13 +0000 2018',\n",
       " 'favourites_count': 2,\n",
       " 'utc_offset': None,\n",
       " 'time_zone': None,\n",
       " 'geo_enabled': False,\n",
       " 'verified': False,\n",
       " 'statuses_count': 3792,\n",
       " 'lang': None,\n",
       " 'contributors_enabled': False,\n",
       " 'is_translator': False,\n",
       " 'is_translation_enabled': False,\n",
       " 'profile_background_color': '000000',\n",
       " 'profile_background_image_url': 'http://abs.twimg.com/images/themes/theme1/bg.png',\n",
       " 'profile_background_image_url_https': 'https://abs.twimg.com/images/themes/theme1/bg.png',\n",
       " 'profile_background_tile': False,\n",
       " 'profile_image_url': 'http://pbs.twimg.com/profile_images/969400516856942593/4HxAYzqC_normal.jpg',\n",
       " 'profile_image_url_https': 'https://pbs.twimg.com/profile_images/969400516856942593/4HxAYzqC_normal.jpg',\n",
       " 'profile_banner_url': 'https://pbs.twimg.com/profile_banners/969398693249126400/1519958558',\n",
       " 'profile_link_color': '000000',\n",
       " 'profile_sidebar_border_color': '000000',\n",
       " 'profile_sidebar_fill_color': '000000',\n",
       " 'profile_text_color': '000000',\n",
       " 'profile_use_background_image': False,\n",
       " 'has_extended_profile': True,\n",
       " 'default_profile': False,\n",
       " 'default_profile_image': False,\n",
       " 'following': False,\n",
       " 'follow_request_sent': False,\n",
       " 'notifications': False,\n",
       " 'translator_type': 'none'}"
      ]
     },
     "execution_count": 18,
     "metadata": {},
     "output_type": "execute_result"
    }
   ],
   "source": [
    "df_bot['user'][0]"
   ]
  },
  {
   "cell_type": "code",
   "execution_count": 19,
   "metadata": {},
   "outputs": [
    {
     "data": {
      "text/plain": [
       "created_at    698\n",
       "user          698\n",
       "dtype: int64"
      ]
     },
     "execution_count": 19,
     "metadata": {},
     "output_type": "execute_result"
    }
   ],
   "source": [
    "df_bot.count()"
   ]
  },
  {
   "cell_type": "markdown",
   "metadata": {},
   "source": [
    "# verfied-2019_tweets"
   ]
  },
  {
   "cell_type": "code",
   "execution_count": 20,
   "metadata": {},
   "outputs": [],
   "source": [
    "df_tweets=pd.read_json('verified-2019_tweets.json')"
   ]
  },
  {
   "cell_type": "code",
   "execution_count": 21,
   "metadata": {},
   "outputs": [
    {
     "data": {
      "text/plain": [
       "created_at    1987\n",
       "user          1987\n",
       "dtype: int64"
      ]
     },
     "execution_count": 21,
     "metadata": {},
     "output_type": "execute_result"
    }
   ],
   "source": [
    "df_tweets.count()"
   ]
  },
  {
   "cell_type": "code",
   "execution_count": 22,
   "metadata": {},
   "outputs": [
    {
     "data": {
      "text/plain": [
       "Index(['created_at', 'user'], dtype='object')"
      ]
     },
     "execution_count": 22,
     "metadata": {},
     "output_type": "execute_result"
    }
   ],
   "source": [
    "df_tweets.columns"
   ]
  },
  {
   "cell_type": "code",
   "execution_count": 24,
   "metadata": {},
   "outputs": [
    {
     "data": {
      "text/plain": [
       "{'id': 31098240,\n",
       " 'id_str': '31098240',\n",
       " 'name': 'Netwerk24',\n",
       " 'screen_name': 'Netwerk24',\n",
       " 'location': 'Johannesburg',\n",
       " 'description': 'Al die nuus, politiek, sport, geldsake & vermaak tot menings & diepteontledings, #AllesOpEenPlek & in Afrikaans! Volg @Netwerk24Sport vir top-sportnuus.',\n",
       " 'url': 'https://t.co/Y0QuSqwwOL',\n",
       " 'entities': {'url': {'urls': [{'url': 'https://t.co/Y0QuSqwwOL',\n",
       "     'expanded_url': 'http://www.netwerk24.com',\n",
       "     'display_url': 'netwerk24.com',\n",
       "     'indices': [0, 23]}]},\n",
       "  'description': {'urls': []}},\n",
       " 'protected': False,\n",
       " 'followers_count': 188419,\n",
       " 'friends_count': 857,\n",
       " 'listed_count': 432,\n",
       " 'created_at': 'Tue Apr 14 10:57:46 +0000 2009',\n",
       " 'favourites_count': 628,\n",
       " 'utc_offset': None,\n",
       " 'time_zone': None,\n",
       " 'geo_enabled': False,\n",
       " 'verified': True,\n",
       " 'statuses_count': 117922,\n",
       " 'lang': None,\n",
       " 'contributors_enabled': False,\n",
       " 'is_translator': False,\n",
       " 'is_translation_enabled': False,\n",
       " 'profile_background_color': '9AE4E8',\n",
       " 'profile_background_image_url': 'http://abs.twimg.com/images/themes/theme1/bg.png',\n",
       " 'profile_background_image_url_https': 'https://abs.twimg.com/images/themes/theme1/bg.png',\n",
       " 'profile_background_tile': True,\n",
       " 'profile_image_url': 'http://pbs.twimg.com/profile_images/919473757202284544/m0Pko0UH_normal.jpg',\n",
       " 'profile_image_url_https': 'https://pbs.twimg.com/profile_images/919473757202284544/m0Pko0UH_normal.jpg',\n",
       " 'profile_banner_url': 'https://pbs.twimg.com/profile_banners/31098240/1559228966',\n",
       " 'profile_link_color': '0084B4',\n",
       " 'profile_sidebar_border_color': 'FFFFFF',\n",
       " 'profile_sidebar_fill_color': 'DDFFCC',\n",
       " 'profile_text_color': '333333',\n",
       " 'profile_use_background_image': False,\n",
       " 'has_extended_profile': False,\n",
       " 'default_profile': False,\n",
       " 'default_profile_image': False,\n",
       " 'following': False,\n",
       " 'follow_request_sent': False,\n",
       " 'notifications': False,\n",
       " 'translator_type': 'none'}"
      ]
     },
     "execution_count": 24,
     "metadata": {},
     "output_type": "execute_result"
    }
   ],
   "source": [
    "df_tweets['user'][0]"
   ]
  },
  {
   "cell_type": "markdown",
   "metadata": {},
   "source": [
    "# CRSCI tweets"
   ]
  },
  {
   "cell_type": "code",
   "execution_count": 14,
   "metadata": {},
   "outputs": [],
   "source": [
    "df_tweets_cresci=pd.read_json('cresci-rtbust-2019_tweets.json')"
   ]
  },
  {
   "cell_type": "code",
   "execution_count": 15,
   "metadata": {},
   "outputs": [
    {
     "data": {
      "text/html": [
       "<div>\n",
       "<style scoped>\n",
       "    .dataframe tbody tr th:only-of-type {\n",
       "        vertical-align: middle;\n",
       "    }\n",
       "\n",
       "    .dataframe tbody tr th {\n",
       "        vertical-align: top;\n",
       "    }\n",
       "\n",
       "    .dataframe thead th {\n",
       "        text-align: right;\n",
       "    }\n",
       "</style>\n",
       "<table border=\"1\" class=\"dataframe\">\n",
       "  <thead>\n",
       "    <tr style=\"text-align: right;\">\n",
       "      <th></th>\n",
       "      <th>created_at</th>\n",
       "      <th>user</th>\n",
       "    </tr>\n",
       "  </thead>\n",
       "  <tbody>\n",
       "    <tr>\n",
       "      <th>0</th>\n",
       "      <td>2019-05-15 16:00:19</td>\n",
       "      <td>{'id': 3022357312, 'id_str': '3022357312', 'na...</td>\n",
       "    </tr>\n",
       "    <tr>\n",
       "      <th>1</th>\n",
       "      <td>2019-05-16 20:07:35</td>\n",
       "      <td>{'id': 753659579582541824, 'id_str': '75365957...</td>\n",
       "    </tr>\n",
       "    <tr>\n",
       "      <th>2</th>\n",
       "      <td>2019-05-17 17:22:28</td>\n",
       "      <td>{'id': 901802279623417856, 'id_str': '90180227...</td>\n",
       "    </tr>\n",
       "    <tr>\n",
       "      <th>3</th>\n",
       "      <td>2018-09-24 13:01:10</td>\n",
       "      <td>{'id': 2982392825, 'id_str': '2982392825', 'na...</td>\n",
       "    </tr>\n",
       "    <tr>\n",
       "      <th>4</th>\n",
       "      <td>2019-05-15 16:41:07</td>\n",
       "      <td>{'id': 825436422609969152, 'id_str': '82543642...</td>\n",
       "    </tr>\n",
       "  </tbody>\n",
       "</table>\n",
       "</div>"
      ],
      "text/plain": [
       "           created_at                                               user\n",
       "0 2019-05-15 16:00:19  {'id': 3022357312, 'id_str': '3022357312', 'na...\n",
       "1 2019-05-16 20:07:35  {'id': 753659579582541824, 'id_str': '75365957...\n",
       "2 2019-05-17 17:22:28  {'id': 901802279623417856, 'id_str': '90180227...\n",
       "3 2018-09-24 13:01:10  {'id': 2982392825, 'id_str': '2982392825', 'na...\n",
       "4 2019-05-15 16:41:07  {'id': 825436422609969152, 'id_str': '82543642..."
      ]
     },
     "execution_count": 15,
     "metadata": {},
     "output_type": "execute_result"
    }
   ],
   "source": [
    "df_tweets_cresci.head()"
   ]
  },
  {
   "cell_type": "code",
   "execution_count": 27,
   "metadata": {},
   "outputs": [
    {
     "data": {
      "text/plain": [
       "{'id': 3022357312,\n",
       " 'id_str': '3022357312',\n",
       " 'name': 'patatavis',\n",
       " 'screen_name': 'pattavis',\n",
       " 'location': '',\n",
       " 'description': '',\n",
       " 'url': None,\n",
       " 'entities': {'description': {'urls': []}},\n",
       " 'protected': False,\n",
       " 'followers_count': 218,\n",
       " 'friends_count': 285,\n",
       " 'listed_count': 0,\n",
       " 'created_at': 'Fri Feb 06 22:33:59 +0000 2015',\n",
       " 'favourites_count': 2305,\n",
       " 'utc_offset': None,\n",
       " 'time_zone': None,\n",
       " 'geo_enabled': False,\n",
       " 'verified': False,\n",
       " 'statuses_count': 3477,\n",
       " 'lang': 'it',\n",
       " 'contributors_enabled': False,\n",
       " 'is_translator': False,\n",
       " 'is_translation_enabled': False,\n",
       " 'profile_background_color': 'C0DEED',\n",
       " 'profile_background_image_url': 'http://abs.twimg.com/images/themes/theme1/bg.png',\n",
       " 'profile_background_image_url_https': 'https://abs.twimg.com/images/themes/theme1/bg.png',\n",
       " 'profile_background_tile': False,\n",
       " 'profile_image_url': 'http://pbs.twimg.com/profile_images/766656354941595648/mtEApv4V_normal.jpg',\n",
       " 'profile_image_url_https': 'https://pbs.twimg.com/profile_images/766656354941595648/mtEApv4V_normal.jpg',\n",
       " 'profile_banner_url': 'https://pbs.twimg.com/profile_banners/3022357312/1487891445',\n",
       " 'profile_link_color': '1DA1F2',\n",
       " 'profile_sidebar_border_color': 'C0DEED',\n",
       " 'profile_sidebar_fill_color': 'DDEEF6',\n",
       " 'profile_text_color': '333333',\n",
       " 'profile_use_background_image': True,\n",
       " 'has_extended_profile': False,\n",
       " 'default_profile': True,\n",
       " 'default_profile_image': False,\n",
       " 'following': False,\n",
       " 'follow_request_sent': False,\n",
       " 'notifications': False,\n",
       " 'translator_type': 'none'}"
      ]
     },
     "execution_count": 27,
     "metadata": {},
     "output_type": "execute_result"
    }
   ],
   "source": [
    "df_tweets_cresci['user'][0]"
   ]
  },
  {
   "cell_type": "code",
   "execution_count": 16,
   "metadata": {},
   "outputs": [
    {
     "name": "stdout",
     "output_type": "stream",
     "text": [
      "<class 'pandas.core.frame.DataFrame'>\n",
      "RangeIndex: 693 entries, 0 to 692\n",
      "Data columns (total 2 columns):\n",
      "created_at    693 non-null datetime64[ns]\n",
      "user          693 non-null object\n",
      "dtypes: datetime64[ns](1), object(1)\n",
      "memory usage: 10.9+ KB\n"
     ]
    }
   ],
   "source": [
    "df_tweets_cresci.info()"
   ]
  },
  {
   "cell_type": "markdown",
   "metadata": {},
   "source": [
    "# Twitter 2017"
   ]
  },
  {
   "cell_type": "code",
   "execution_count": null,
   "metadata": {},
   "outputs": [],
   "source": [
    "df_tweets_cresci17=pd.read_csv('cresci-rtbust-2017_tweets.json')"
   ]
  },
  {
   "cell_type": "markdown",
   "metadata": {},
   "source": [
    "# Instagram\n"
   ]
  },
  {
   "cell_type": "code",
   "execution_count": 3,
   "metadata": {},
   "outputs": [],
   "source": [
    "df_insta_fake=pd.read_json('fakeAccountData.json')\n"
   ]
  },
  {
   "cell_type": "code",
   "execution_count": 4,
   "metadata": {},
   "outputs": [
    {
     "data": {
      "text/html": [
       "<div>\n",
       "<style scoped>\n",
       "    .dataframe tbody tr th:only-of-type {\n",
       "        vertical-align: middle;\n",
       "    }\n",
       "\n",
       "    .dataframe tbody tr th {\n",
       "        vertical-align: top;\n",
       "    }\n",
       "\n",
       "    .dataframe thead th {\n",
       "        text-align: right;\n",
       "    }\n",
       "</style>\n",
       "<table border=\"1\" class=\"dataframe\">\n",
       "  <thead>\n",
       "    <tr style=\"text-align: right;\">\n",
       "      <th></th>\n",
       "      <th>isFake</th>\n",
       "      <th>userBiographyLength</th>\n",
       "      <th>userFollowerCount</th>\n",
       "      <th>userFollowingCount</th>\n",
       "      <th>userHasProfilPic</th>\n",
       "      <th>userIsPrivate</th>\n",
       "      <th>userMediaCount</th>\n",
       "      <th>usernameDigitCount</th>\n",
       "      <th>usernameLength</th>\n",
       "    </tr>\n",
       "  </thead>\n",
       "  <tbody>\n",
       "    <tr>\n",
       "      <th>0</th>\n",
       "      <td>1</td>\n",
       "      <td>0</td>\n",
       "      <td>25</td>\n",
       "      <td>1937</td>\n",
       "      <td>1</td>\n",
       "      <td>1</td>\n",
       "      <td>0</td>\n",
       "      <td>0</td>\n",
       "      <td>10</td>\n",
       "    </tr>\n",
       "    <tr>\n",
       "      <th>1</th>\n",
       "      <td>1</td>\n",
       "      <td>0</td>\n",
       "      <td>324</td>\n",
       "      <td>4122</td>\n",
       "      <td>1</td>\n",
       "      <td>0</td>\n",
       "      <td>0</td>\n",
       "      <td>4</td>\n",
       "      <td>15</td>\n",
       "    </tr>\n",
       "    <tr>\n",
       "      <th>2</th>\n",
       "      <td>1</td>\n",
       "      <td>0</td>\n",
       "      <td>15</td>\n",
       "      <td>399</td>\n",
       "      <td>0</td>\n",
       "      <td>0</td>\n",
       "      <td>0</td>\n",
       "      <td>3</td>\n",
       "      <td>12</td>\n",
       "    </tr>\n",
       "    <tr>\n",
       "      <th>3</th>\n",
       "      <td>1</td>\n",
       "      <td>0</td>\n",
       "      <td>14</td>\n",
       "      <td>107</td>\n",
       "      <td>1</td>\n",
       "      <td>0</td>\n",
       "      <td>1</td>\n",
       "      <td>1</td>\n",
       "      <td>10</td>\n",
       "    </tr>\n",
       "    <tr>\n",
       "      <th>4</th>\n",
       "      <td>1</td>\n",
       "      <td>0</td>\n",
       "      <td>264</td>\n",
       "      <td>4651</td>\n",
       "      <td>1</td>\n",
       "      <td>0</td>\n",
       "      <td>0</td>\n",
       "      <td>0</td>\n",
       "      <td>14</td>\n",
       "    </tr>\n",
       "  </tbody>\n",
       "</table>\n",
       "</div>"
      ],
      "text/plain": [
       "   isFake  userBiographyLength  userFollowerCount  userFollowingCount  \\\n",
       "0       1                    0                 25                1937   \n",
       "1       1                    0                324                4122   \n",
       "2       1                    0                 15                 399   \n",
       "3       1                    0                 14                 107   \n",
       "4       1                    0                264                4651   \n",
       "\n",
       "   userHasProfilPic  userIsPrivate  userMediaCount  usernameDigitCount  \\\n",
       "0                 1              1               0                   0   \n",
       "1                 1              0               0                   4   \n",
       "2                 0              0               0                   3   \n",
       "3                 1              0               1                   1   \n",
       "4                 1              0               0                   0   \n",
       "\n",
       "   usernameLength  \n",
       "0              10  \n",
       "1              15  \n",
       "2              12  \n",
       "3              10  \n",
       "4              14  "
      ]
     },
     "execution_count": 4,
     "metadata": {},
     "output_type": "execute_result"
    }
   ],
   "source": [
    "df_insta_fake.head(5)"
   ]
  },
  {
   "cell_type": "code",
   "execution_count": 5,
   "metadata": {},
   "outputs": [
    {
     "data": {
      "text/plain": [
       "Index(['isFake', 'userBiographyLength', 'userFollowerCount',\n",
       "       'userFollowingCount', 'userHasProfilPic', 'userIsPrivate',\n",
       "       'userMediaCount', 'usernameDigitCount', 'usernameLength'],\n",
       "      dtype='object')"
      ]
     },
     "execution_count": 5,
     "metadata": {},
     "output_type": "execute_result"
    }
   ],
   "source": [
    "df_insta_fake.columns"
   ]
  },
  {
   "cell_type": "code",
   "execution_count": 8,
   "metadata": {},
   "outputs": [
    {
     "data": {
      "text/plain": [
       "isFake                 0\n",
       "userBiographyLength    0\n",
       "userFollowerCount      0\n",
       "userFollowingCount     0\n",
       "userHasProfilPic       0\n",
       "userIsPrivate          0\n",
       "userMediaCount         0\n",
       "usernameDigitCount     0\n",
       "usernameLength         0\n",
       "dtype: int64"
      ]
     },
     "execution_count": 8,
     "metadata": {},
     "output_type": "execute_result"
    }
   ],
   "source": [
    "df_insta_fake.isnull().sum()"
   ]
  },
  {
   "cell_type": "code",
   "execution_count": 10,
   "metadata": {},
   "outputs": [
    {
     "data": {
      "text/plain": [
       "<seaborn.axisgrid.FacetGrid at 0x1e0a059d4a8>"
      ]
     },
     "execution_count": 10,
     "metadata": {},
     "output_type": "execute_result"
    },
    {
     "data": {
      "image/png": "[encoded data removed]",
      "text/plain": [
       "<Figure size 360x360 with 1 Axes>"
      ]
     },
     "metadata": {
      "needs_background": "light"
     },
     "output_type": "display_data"
    }
   ],
   "source": [
    "chart = sns.catplot(\n",
    "    data=df_insta_fake,\n",
    "    kind='count',\n",
    "    x='isFake'\n",
    ")\n",
    "chart.set_xticklabels(rotation=65, horizontalalignment='right')"
   ]
  },
  {
   "cell_type": "code",
   "execution_count": 11,
   "metadata": {},
   "outputs": [
    {
     "name": "stdout",
     "output_type": "stream",
     "text": [
      "<class 'pandas.core.frame.DataFrame'>\n",
      "RangeIndex: 200 entries, 0 to 199\n",
      "Data columns (total 9 columns):\n",
      "isFake                 200 non-null int64\n",
      "userBiographyLength    200 non-null int64\n",
      "userFollowerCount      200 non-null int64\n",
      "userFollowingCount     200 non-null int64\n",
      "userHasProfilPic       200 non-null int64\n",
      "userIsPrivate          200 non-null int64\n",
      "userMediaCount         200 non-null int64\n",
      "usernameDigitCount     200 non-null int64\n",
      "usernameLength         200 non-null int64\n",
      "dtypes: int64(9)\n",
      "memory usage: 14.1 KB\n"
     ]
    }
   ],
   "source": [
    "df_insta_fake.info()"
   ]
  },
  {
   "cell_type": "code",
   "execution_count": 12,
   "metadata": {},
   "outputs": [],
   "source": [
    "df_insta_fake=pd.read_json('realAccountData.json')\n"
   ]
  },
  {
   "cell_type": "code",
   "execution_count": 13,
   "metadata": {},
   "outputs": [
    {
     "name": "stdout",
     "output_type": "stream",
     "text": [
      "<class 'pandas.core.frame.DataFrame'>\n",
      "RangeIndex: 994 entries, 0 to 993\n",
      "Data columns (total 9 columns):\n",
      "isFake                 994 non-null int64\n",
      "userBiographyLength    994 non-null int64\n",
      "userFollowerCount      994 non-null int64\n",
      "userFollowingCount     994 non-null int64\n",
      "userHasProfilPic       994 non-null int64\n",
      "userIsPrivate          994 non-null int64\n",
      "userMediaCount         994 non-null int64\n",
      "usernameDigitCount     994 non-null int64\n",
      "usernameLength         994 non-null int64\n",
      "dtypes: int64(9)\n",
      "memory usage: 70.0 KB\n"
     ]
    }
   ],
   "source": [
    "df_insta_fake.info()"
   ]
  },
  {
   "cell_type": "markdown",
   "metadata": {},
   "source": [
    "# Intrusion Detection"
   ]
  },
  {
   "cell_type": "code",
   "execution_count": 3,
   "metadata": {},
   "outputs": [],
   "source": [
    "df_intrusion = pd.read_csv('Train_data.csv')"
   ]
  },
  {
   "cell_type": "code",
   "execution_count": 4,
   "metadata": {},
   "outputs": [
    {
     "data": {
      "text/html": [
       "<div>\n",
       "<style scoped>\n",
       "    .dataframe tbody tr th:only-of-type {\n",
       "        vertical-align: middle;\n",
       "    }\n",
       "\n",
       "    .dataframe tbody tr th {\n",
       "        vertical-align: top;\n",
       "    }\n",
       "\n",
       "    .dataframe thead th {\n",
       "        text-align: right;\n",
       "    }\n",
       "</style>\n",
       "<table border=\"1\" class=\"dataframe\">\n",
       "  <thead>\n",
       "    <tr style=\"text-align: right;\">\n",
       "      <th></th>\n",
       "      <th>duration</th>\n",
       "      <th>protocol_type</th>\n",
       "      <th>service</th>\n",
       "      <th>flag</th>\n",
       "      <th>src_bytes</th>\n",
       "      <th>dst_bytes</th>\n",
       "      <th>land</th>\n",
       "      <th>wrong_fragment</th>\n",
       "      <th>urgent</th>\n",
       "      <th>hot</th>\n",
       "      <th>...</th>\n",
       "      <th>dst_host_srv_count</th>\n",
       "      <th>dst_host_same_srv_rate</th>\n",
       "      <th>dst_host_diff_srv_rate</th>\n",
       "      <th>dst_host_same_src_port_rate</th>\n",
       "      <th>dst_host_srv_diff_host_rate</th>\n",
       "      <th>dst_host_serror_rate</th>\n",
       "      <th>dst_host_srv_serror_rate</th>\n",
       "      <th>dst_host_rerror_rate</th>\n",
       "      <th>dst_host_srv_rerror_rate</th>\n",
       "      <th>xAttack</th>\n",
       "    </tr>\n",
       "  </thead>\n",
       "  <tbody>\n",
       "    <tr>\n",
       "      <td>0</td>\n",
       "      <td>0</td>\n",
       "      <td>icmp</td>\n",
       "      <td>20</td>\n",
       "      <td>2</td>\n",
       "      <td>491</td>\n",
       "      <td>0</td>\n",
       "      <td>0</td>\n",
       "      <td>0</td>\n",
       "      <td>0</td>\n",
       "      <td>0</td>\n",
       "      <td>...</td>\n",
       "      <td>25</td>\n",
       "      <td>0.17</td>\n",
       "      <td>0.03</td>\n",
       "      <td>0.17</td>\n",
       "      <td>0.00</td>\n",
       "      <td>0.00</td>\n",
       "      <td>0.00</td>\n",
       "      <td>0.05</td>\n",
       "      <td>0.00</td>\n",
       "      <td>normal</td>\n",
       "    </tr>\n",
       "    <tr>\n",
       "      <td>1</td>\n",
       "      <td>0</td>\n",
       "      <td>udp</td>\n",
       "      <td>45</td>\n",
       "      <td>2</td>\n",
       "      <td>146</td>\n",
       "      <td>0</td>\n",
       "      <td>0</td>\n",
       "      <td>0</td>\n",
       "      <td>0</td>\n",
       "      <td>0</td>\n",
       "      <td>...</td>\n",
       "      <td>1</td>\n",
       "      <td>0.00</td>\n",
       "      <td>0.60</td>\n",
       "      <td>0.88</td>\n",
       "      <td>0.00</td>\n",
       "      <td>0.00</td>\n",
       "      <td>0.00</td>\n",
       "      <td>0.00</td>\n",
       "      <td>0.00</td>\n",
       "      <td>normal</td>\n",
       "    </tr>\n",
       "    <tr>\n",
       "      <td>2</td>\n",
       "      <td>0</td>\n",
       "      <td>icmp</td>\n",
       "      <td>50</td>\n",
       "      <td>4</td>\n",
       "      <td>0</td>\n",
       "      <td>0</td>\n",
       "      <td>0</td>\n",
       "      <td>0</td>\n",
       "      <td>0</td>\n",
       "      <td>0</td>\n",
       "      <td>...</td>\n",
       "      <td>26</td>\n",
       "      <td>0.10</td>\n",
       "      <td>0.05</td>\n",
       "      <td>0.00</td>\n",
       "      <td>0.00</td>\n",
       "      <td>1.00</td>\n",
       "      <td>1.00</td>\n",
       "      <td>0.00</td>\n",
       "      <td>0.00</td>\n",
       "      <td>dos</td>\n",
       "    </tr>\n",
       "    <tr>\n",
       "      <td>3</td>\n",
       "      <td>0</td>\n",
       "      <td>icmp</td>\n",
       "      <td>25</td>\n",
       "      <td>2</td>\n",
       "      <td>232</td>\n",
       "      <td>8153</td>\n",
       "      <td>0</td>\n",
       "      <td>0</td>\n",
       "      <td>0</td>\n",
       "      <td>0</td>\n",
       "      <td>...</td>\n",
       "      <td>255</td>\n",
       "      <td>1.00</td>\n",
       "      <td>0.00</td>\n",
       "      <td>0.03</td>\n",
       "      <td>0.04</td>\n",
       "      <td>0.03</td>\n",
       "      <td>0.01</td>\n",
       "      <td>0.00</td>\n",
       "      <td>0.01</td>\n",
       "      <td>normal</td>\n",
       "    </tr>\n",
       "    <tr>\n",
       "      <td>4</td>\n",
       "      <td>0</td>\n",
       "      <td>icmp</td>\n",
       "      <td>25</td>\n",
       "      <td>2</td>\n",
       "      <td>199</td>\n",
       "      <td>420</td>\n",
       "      <td>0</td>\n",
       "      <td>0</td>\n",
       "      <td>0</td>\n",
       "      <td>0</td>\n",
       "      <td>...</td>\n",
       "      <td>255</td>\n",
       "      <td>1.00</td>\n",
       "      <td>0.00</td>\n",
       "      <td>0.00</td>\n",
       "      <td>0.00</td>\n",
       "      <td>0.00</td>\n",
       "      <td>0.00</td>\n",
       "      <td>0.00</td>\n",
       "      <td>0.00</td>\n",
       "      <td>normal</td>\n",
       "    </tr>\n",
       "  </tbody>\n",
       "</table>\n",
       "<p>5 rows × 42 columns</p>\n",
       "</div>"
      ],
      "text/plain": [
       "   duration protocol_type  service  flag  src_bytes  dst_bytes  land  \\\n",
       "0         0          icmp       20     2        491          0     0   \n",
       "1         0           udp       45     2        146          0     0   \n",
       "2         0          icmp       50     4          0          0     0   \n",
       "3         0          icmp       25     2        232       8153     0   \n",
       "4         0          icmp       25     2        199        420     0   \n",
       "\n",
       "   wrong_fragment  urgent  hot  ...  dst_host_srv_count  \\\n",
       "0               0       0    0  ...                  25   \n",
       "1               0       0    0  ...                   1   \n",
       "2               0       0    0  ...                  26   \n",
       "3               0       0    0  ...                 255   \n",
       "4               0       0    0  ...                 255   \n",
       "\n",
       "   dst_host_same_srv_rate  dst_host_diff_srv_rate  \\\n",
       "0                    0.17                    0.03   \n",
       "1                    0.00                    0.60   \n",
       "2                    0.10                    0.05   \n",
       "3                    1.00                    0.00   \n",
       "4                    1.00                    0.00   \n",
       "\n",
       "   dst_host_same_src_port_rate  dst_host_srv_diff_host_rate  \\\n",
       "0                         0.17                         0.00   \n",
       "1                         0.88                         0.00   \n",
       "2                         0.00                         0.00   \n",
       "3                         0.03                         0.04   \n",
       "4                         0.00                         0.00   \n",
       "\n",
       "   dst_host_serror_rate  dst_host_srv_serror_rate  dst_host_rerror_rate  \\\n",
       "0                  0.00                      0.00                  0.05   \n",
       "1                  0.00                      0.00                  0.00   \n",
       "2                  1.00                      1.00                  0.00   \n",
       "3                  0.03                      0.01                  0.00   \n",
       "4                  0.00                      0.00                  0.00   \n",
       "\n",
       "   dst_host_srv_rerror_rate  xAttack  \n",
       "0                      0.00   normal  \n",
       "1                      0.00   normal  \n",
       "2                      0.00      dos  \n",
       "3                      0.01   normal  \n",
       "4                      0.00   normal  \n",
       "\n",
       "[5 rows x 42 columns]"
      ]
     },
     "execution_count": 4,
     "metadata": {},
     "output_type": "execute_result"
    }
   ],
   "source": [
    "df_intrusion.head()"
   ]
  },
  {
   "cell_type": "code",
   "execution_count": 5,
   "metadata": {},
   "outputs": [
    {
     "data": {
      "text/plain": [
       "Index(['duration', 'protocol_type', 'service', 'flag', 'src_bytes',\n",
       "       'dst_bytes', 'land', 'wrong_fragment', 'urgent', 'hot',\n",
       "       'num_failed_logins', 'logged_in', 'num_compromised', 'root_shell',\n",
       "       'su_attempted', 'num_root', 'num_file_creations', 'num_shells',\n",
       "       'num_access_files', 'num_outbound_cmds', 'is_host_login',\n",
       "       'is_guest_login', 'count', 'srv_count', 'serror_rate',\n",
       "       'srv_serror_rate', 'rerror_rate', 'srv_rerror_rate', 'same_srv_rate',\n",
       "       'diff_srv_rate', 'srv_diff_host_rate', 'dst_host_count',\n",
       "       'dst_host_srv_count', 'dst_host_same_srv_rate',\n",
       "       'dst_host_diff_srv_rate', 'dst_host_same_src_port_rate',\n",
       "       'dst_host_srv_diff_host_rate', 'dst_host_serror_rate',\n",
       "       'dst_host_srv_serror_rate', 'dst_host_rerror_rate',\n",
       "       'dst_host_srv_rerror_rate', 'xAttack'],\n",
       "      dtype='object')"
      ]
     },
     "execution_count": 5,
     "metadata": {},
     "output_type": "execute_result"
    }
   ],
   "source": [
    "df_intrusion.columns"
   ]
  },
  {
   "cell_type": "code",
   "execution_count": 6,
   "metadata": {},
   "outputs": [
    {
     "data": {
      "text/plain": [
       "<seaborn.axisgrid.FacetGrid at 0x2d2f7833ba8>"
      ]
     },
     "execution_count": 6,
     "metadata": {},
     "output_type": "execute_result"
    },
    {
     "data": {
      "image/png": "[encoded data removed]",
      "text/plain": [
       "<Figure size 360x360 with 1 Axes>"
      ]
     },
     "metadata": {
      "needs_background": "light"
     },
     "output_type": "display_data"
    }
   ],
   "source": [
    "chart = sns.catplot(\n",
    "    data=df_intrusion,\n",
    "    kind='count',\n",
    "    x='xAttack'\n",
    ")\n",
    "chart.set_xticklabels(rotation=65, horizontalalignment='right')"
   ]
  },
  {
   "cell_type": "code",
   "execution_count": 7,
   "metadata": {},
   "outputs": [
    {
     "data": {
      "text/plain": [
       "<seaborn.axisgrid.FacetGrid at 0x2d28ab20438>"
      ]
     },
     "execution_count": 7,
     "metadata": {},
     "output_type": "execute_result"
    },
    {
     "data": {
      "image/png": "[encoded data removed]",
      "text/plain": [
       "<Figure size 360x360 with 1 Axes>"
      ]
     },
     "metadata": {
      "needs_background": "light"
     },
     "output_type": "display_data"
    }
   ],
   "source": [
    "chart = sns.catplot(\n",
    "    data=df_intrusion,\n",
    "    kind='count',\n",
    "    x='protocol_type'\n",
    ")\n",
    "chart.set_xticklabels(rotation=65, horizontalalignment='right')"
   ]
  },
  {
   "cell_type": "code",
   "execution_count": 8,
   "metadata": {},
   "outputs": [
    {
     "data": {
      "text/plain": [
       "<seaborn.axisgrid.FacetGrid at 0x2d2f5198fd0>"
      ]
     },
     "execution_count": 8,
     "metadata": {},
     "output_type": "execute_result"
    },
    {
     "data": {
      "image/png": "[encoded data removed]",
      "text/plain": [
       "<Figure size 360x360 with 1 Axes>"
      ]
     },
     "metadata": {
      "needs_background": "light"
     },
     "output_type": "display_data"
    }
   ],
   "source": [
    "chart = sns.catplot(\n",
    "    data=df_intrusion,\n",
    "    kind='count',\n",
    "    x='service'\n",
    ")\n",
    "chart.set_xticklabels(rotation=65, horizontalalignment='right')"
   ]
  },
  {
   "cell_type": "code",
   "execution_count": 22,
   "metadata": {},
   "outputs": [
    {
     "data": {
      "text/plain": [
       "<seaborn.axisgrid.FacetGrid at 0x2d285c702b0>"
      ]
     },
     "execution_count": 22,
     "metadata": {},
     "output_type": "execute_result"
    },
    {
     "data": {
      "image/png": "[encoded data removed]",
      "text/plain": [
       "<Figure size 360x360 with 1 Axes>"
      ]
     },
     "metadata": {
      "needs_background": "light"
     },
     "output_type": "display_data"
    }
   ],
   "source": [
    "chart = sns.catplot(\n",
    "    data=df_intrusion,\n",
    "    kind='bar',\n",
    "    x='xAttack',\n",
    "    y=\"duration\"\n",
    ")\n",
    "chart.set_xticklabels(rotation=65, horizontalalignment='right')"
   ]
  },
  {
   "cell_type": "code",
   "execution_count": 10,
   "metadata": {},
   "outputs": [
    {
     "data": {
      "text/plain": [
       "array([    0,  5607,   507, ...,  5430, 11680,   679], dtype=int64)"
      ]
     },
     "execution_count": 10,
     "metadata": {},
     "output_type": "execute_result"
    }
   ],
   "source": [
    "df_intrusion.duration.unique()"
   ]
  },
  {
   "cell_type": "code",
   "execution_count": 31,
   "metadata": {},
   "outputs": [
    {
     "data": {
      "text/plain": [
       "<matplotlib.axes._subplots.AxesSubplot at 0x2d28cc659e8>"
      ]
     },
     "execution_count": 31,
     "metadata": {},
     "output_type": "execute_result"
    },
    {
     "data": {
      "image/png": "[encoded data removed]",
      "text/plain": [
       "<Figure size 432x288 with 1 Axes>"
      ]
     },
     "metadata": {
      "needs_background": "light"
     },
     "output_type": "display_data"
    }
   ],
   "source": [
    "# Suppose we wish to investigate a variable within each year\n",
    "# We want to know how many were sold in each neighborhood each year\n",
    "# note that x will be Series and x is each element of the series\n",
    "\n",
    "df_intrusion.boxplot(column='duration', by='xAttack')\n",
    "\n",
    "\n",
    "# df_intrusion['duration'].plot(kind='hist', title='time duration')\n",
    "# chart = sns.catplot(\n",
    "#     data=df_intrusion,\n",
    "#     kind='count',\n",
    "#     x='duration'\n",
    "#     )\n",
    "# chart.set_xticklabels(rotation=65, horizontalalignment='right')\n",
    "\n"
   ]
  },
  {
   "cell_type": "code",
   "execution_count": 33,
   "metadata": {},
   "outputs": [
    {
     "data": {
      "text/plain": [
       "array([20, 45, 50, 25, 52, 37, 39, 15, 36, 61, 19, 12, 59, 67,  3, 55,  8,\n",
       "       38, 66,  5,  6, 33, 16, 22, 69, 60, 17, 70, 29, 30, 14, 31, 34, 58,\n",
       "       35, 32, 56, 64, 24, 18, 44, 11, 43,  7,  9, 57, 10, 54, 41, 48, 42,\n",
       "        1, 47, 49, 63, 46, 51, 40, 53,  2, 65,  4, 62, 23], dtype=int64)"
      ]
     },
     "execution_count": 33,
     "metadata": {},
     "output_type": "execute_result"
    }
   ],
   "source": [
    "df_intrusion.service.unique()"
   ]
  },
  {
   "cell_type": "code",
   "execution_count": null,
   "metadata": {},
   "outputs": [],
   "source": [
    "df_intrusion.service.unique()"
   ]
  },
  {
   "cell_type": "code",
   "execution_count": 10,
   "metadata": {},
   "outputs": [
    {
     "name": "stdout",
     "output_type": "stream",
     "text": [
      "<class 'pandas.core.frame.DataFrame'>\n",
      "RangeIndex: 125973 entries, 0 to 125972\n",
      "Data columns (total 42 columns):\n",
      "duration                       125973 non-null int64\n",
      "protocol_type                  125973 non-null object\n",
      "service                        125973 non-null int64\n",
      "flag                           125973 non-null int64\n",
      "src_bytes                      125973 non-null int64\n",
      "dst_bytes                      125973 non-null int64\n",
      "land                           125973 non-null int64\n",
      "wrong_fragment                 125973 non-null int64\n",
      "urgent                         125973 non-null int64\n",
      "hot                            125973 non-null int64\n",
      "num_failed_logins              125973 non-null int64\n",
      "logged_in                      125973 non-null int64\n",
      "num_compromised                125973 non-null int64\n",
      "root_shell                     125973 non-null int64\n",
      "su_attempted                   125973 non-null int64\n",
      "num_root                       125973 non-null int64\n",
      "num_file_creations             125973 non-null int64\n",
      "num_shells                     125973 non-null int64\n",
      "num_access_files               125973 non-null int64\n",
      "num_outbound_cmds              125973 non-null int64\n",
      "is_host_login                  125973 non-null int64\n",
      "is_guest_login                 125973 non-null int64\n",
      "count                          125973 non-null int64\n",
      "srv_count                      125973 non-null int64\n",
      "serror_rate                    125973 non-null float64\n",
      "srv_serror_rate                125973 non-null float64\n",
      "rerror_rate                    125973 non-null float64\n",
      "srv_rerror_rate                125973 non-null float64\n",
      "same_srv_rate                  125973 non-null float64\n",
      "diff_srv_rate                  125973 non-null float64\n",
      "srv_diff_host_rate             125973 non-null float64\n",
      "dst_host_count                 125973 non-null int64\n",
      "dst_host_srv_count             125973 non-null int64\n",
      "dst_host_same_srv_rate         125973 non-null float64\n",
      "dst_host_diff_srv_rate         125973 non-null float64\n",
      "dst_host_same_src_port_rate    125973 non-null float64\n",
      "dst_host_srv_diff_host_rate    125973 non-null float64\n",
      "dst_host_serror_rate           125973 non-null float64\n",
      "dst_host_srv_serror_rate       125973 non-null float64\n",
      "dst_host_rerror_rate           125973 non-null float64\n",
      "dst_host_srv_rerror_rate       125973 non-null float64\n",
      "xAttack                        125973 non-null object\n",
      "dtypes: float64(15), int64(25), object(2)\n",
      "memory usage: 40.4+ MB\n"
     ]
    }
   ],
   "source": [
    "df_intrusion.info()"
   ]
  },
  {
   "cell_type": "code",
   "execution_count": 12,
   "metadata": {},
   "outputs": [],
   "source": [
    "df_intrusion_t = pd.read_csv('test_data.csv')"
   ]
  },
  {
   "cell_type": "code",
   "execution_count": 13,
   "metadata": {},
   "outputs": [
    {
     "name": "stdout",
     "output_type": "stream",
     "text": [
      "<class 'pandas.core.frame.DataFrame'>\n",
      "RangeIndex: 10000 entries, 0 to 9999\n",
      "Data columns (total 43 columns):\n",
      "Unnamed: 0                     10000 non-null int64\n",
      "duration                       10000 non-null int64\n",
      "protocol_type                  10000 non-null object\n",
      "service                        10000 non-null int64\n",
      "flag                           10000 non-null int64\n",
      "src_bytes                      10000 non-null int64\n",
      "dst_bytes                      10000 non-null int64\n",
      "land                           10000 non-null int64\n",
      "wrong_fragment                 10000 non-null int64\n",
      "urgent                         10000 non-null int64\n",
      "hot                            10000 non-null int64\n",
      "num_failed_logins              10000 non-null int64\n",
      "logged_in                      10000 non-null int64\n",
      "num_compromised                10000 non-null int64\n",
      "root_shell                     10000 non-null int64\n",
      "su_attempted                   10000 non-null int64\n",
      "num_root                       10000 non-null int64\n",
      "num_file_creations             10000 non-null int64\n",
      "num_shells                     10000 non-null int64\n",
      "num_access_files               10000 non-null int64\n",
      "num_outbound_cmds              10000 non-null int64\n",
      "is_host_login                  10000 non-null int64\n",
      "is_guest_login                 10000 non-null int64\n",
      "count                          10000 non-null int64\n",
      "srv_count                      10000 non-null int64\n",
      "serror_rate                    10000 non-null float64\n",
      "srv_serror_rate                10000 non-null float64\n",
      "rerror_rate                    10000 non-null float64\n",
      "srv_rerror_rate                10000 non-null float64\n",
      "same_srv_rate                  10000 non-null float64\n",
      "diff_srv_rate                  10000 non-null float64\n",
      "srv_diff_host_rate             10000 non-null float64\n",
      "dst_host_count                 10000 non-null int64\n",
      "dst_host_srv_count             10000 non-null int64\n",
      "dst_host_same_srv_rate         10000 non-null float64\n",
      "dst_host_diff_srv_rate         10000 non-null float64\n",
      "dst_host_same_src_port_rate    10000 non-null float64\n",
      "dst_host_srv_diff_host_rate    10000 non-null float64\n",
      "dst_host_serror_rate           10000 non-null float64\n",
      "dst_host_srv_serror_rate       10000 non-null float64\n",
      "dst_host_rerror_rate           10000 non-null float64\n",
      "dst_host_srv_rerror_rate       10000 non-null float64\n",
      "xAttack                        10000 non-null object\n",
      "dtypes: float64(15), int64(26), object(2)\n",
      "memory usage: 3.3+ MB\n"
     ]
    }
   ],
   "source": [
    "df_intrusion_t.info()"
   ]
  },
  {
   "cell_type": "code",
   "execution_count": null,
   "metadata": {},
   "outputs": [],
   "source": []
  }
 ],
 "metadata": {
  "kernelspec": {
   "display_name": "Python 3",
   "language": "python",
   "name": "python3"
  },
  "language_info": {
   "codemirror_mode": {
    "name": "ipython",
    "version": 3
   },
   "file_extension": ".py",
   "mimetype": "text/x-python",
   "name": "python",
   "nbconvert_exporter": "python",
   "pygments_lexer": "ipython3",
   "version": "3.6.9"
  }
 },
 "nbformat": 4,
 "nbformat_minor": 2
}
