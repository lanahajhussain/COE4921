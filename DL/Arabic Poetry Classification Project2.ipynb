{
 "cells": [
  {
   "cell_type": "markdown",
   "metadata": {},
   "source": [
    "# Arabic Poetry Category Classification \n"
   ]
  },
  {
   "cell_type": "markdown",
   "metadata": {},
   "source": [
    "## imports"
   ]
  },
  {
   "cell_type": "code",
   "execution_count": 16,
   "metadata": {},
   "outputs": [],
   "source": [
    "import sys\n",
    "import matplotlib.pyplot as plt\n",
    "import seaborn as sns\n",
    "import pandas as pd\n",
    "\n",
    "##############################################\n",
    "##############Data Preprocessing##############\n",
    "##############################################\n",
    "\n",
    "#Data Cleaning\n",
    "import argparse\n",
    "from nltk.stem.isri import ISRIStemmer\n",
    "import sys\n",
    "\n",
    "#Tokenization\n",
    "\n",
    "\n",
    "##############################################\n",
    "##############  MODEL TRAINING  ##############\n",
    "##############################################\n"
   ]
  },
  {
   "cell_type": "markdown",
   "metadata": {},
   "source": [
    "## Preprocessing"
   ]
  },
  {
   "cell_type": "markdown",
   "metadata": {},
   "source": [
    "### Importing the data"
   ]
  },
  {
   "cell_type": "code",
   "execution_count": 2,
   "metadata": {},
   "outputs": [],
   "source": [
    "df = pd.read_csv('all_poems.csv')\n",
    "df.poem_text=df.poem_text.astype(str)"
   ]
  },
  {
   "cell_type": "markdown",
   "metadata": {},
   "source": [
    "### Cleaning "
   ]
  },
  {
   "cell_type": "code",
   "execution_count": 3,
   "metadata": {},
   "outputs": [],
   "source": [
    "df.drop([\"poem_style\"], axis=1, inplace=True)\n",
    "df.drop([\"poem_link\"], axis=1, inplace=True)\n",
    "df.drop([\"poet_link\"], axis=1, inplace=True)\n",
    "df.drop([\"poet_id\"], axis=1, inplace=True)\n",
    "df.drop([\"poet_name\"], axis=1, inplace=True)\n",
    "df.drop([\"poem_title\"], axis=1, inplace=True)\n",
    "df.drop([\"poem_id\"], axis=1, inplace=True)"
   ]
  },
  {
   "cell_type": "code",
   "execution_count": 4,
   "metadata": {},
   "outputs": [
    {
     "data": {
      "text/plain": [
       "Index(['poem_text', 'poet_cat'], dtype='object')"
      ]
     },
     "execution_count": 4,
     "metadata": {},
     "output_type": "execute_result"
    }
   ],
   "source": [
    "df.columns"
   ]
  },
  {
   "cell_type": "markdown",
   "metadata": {},
   "source": [
    "### Downsampling data "
   ]
  },
  {
   "cell_type": "code",
   "execution_count": 5,
   "metadata": {},
   "outputs": [],
   "source": [
    "df.drop((df[df[\"poet_cat\"]==\"العصر العباسي\"]).index[:13000], inplace=True)\n",
    "df.drop((df[df[\"poet_cat\"]==\"العراق\"]).index[:2000], inplace=True)\n",
    "df.drop((df[df[\"poet_cat\"]==\"سوريا\"]).index[:3000], inplace=True)\n",
    "df.drop((df[df[\"poet_cat\"]==\"لبنان\"]).index[:2000], inplace=True)"
   ]
  },
  {
   "cell_type": "code",
   "execution_count": 6,
   "metadata": {},
   "outputs": [
    {
     "data": {
      "text/plain": [
       "العصر العباسي          6417\n",
       "العصر الأندلسي         6296\n",
       "مصر                    4793\n",
       "العصر الإسلامي         3700\n",
       "لبنان                  2800\n",
       "العراق                 2252\n",
       "سوريا                  2036\n",
       "السعودية               1931\n",
       "فلسطين                 1713\n",
       "العصر الجاهلي          1461\n",
       "اليمن                   700\n",
       "عمان                    619\n",
       "الإمارات                563\n",
       "البحرين                 555\n",
       "الجزائر                 405\n",
       "السودان                 403\n",
       "تونس                    351\n",
       "الأردن                  265\n",
       "ليبيا                   240\n",
       "المغرب                  202\n",
       "إيران                    90\n",
       "أفغانستان                70\n",
       "شعراء العراق والشام      68\n",
       "الكويت                   54\n",
       "قطر                      22\n",
       "موريتانيا                15\n",
       "Name: poet_cat, dtype: int64"
      ]
     },
     "execution_count": 6,
     "metadata": {},
     "output_type": "execute_result"
    }
   ],
   "source": [
    "df[\"poet_cat\"].value_counts() "
   ]
  },
  {
   "cell_type": "markdown",
   "metadata": {},
   "source": [
    "### Grouping categories"
   ]
  },
  {
   "cell_type": "code",
   "execution_count": 7,
   "metadata": {},
   "outputs": [],
   "source": [
    "def combine(x):\n",
    "    if (( x == \"العراق\") or (x == \"السعودية\") or (x == \"الإمارات\") or (x == \"البحرين\") or (x == \"الكويت\") or (x == \"قطر\") or (x == \"عمان\") or  (x == \"اليمن\") ) :\n",
    "        return \"Arabian Peninsula\"\n",
    "    elif ( x == \"فلسطين\" or x == \"سوريا\" or x == \"لبنان\" or x == \"الأردن\") :\n",
    "        return \"Bilad al-Sham\"\n",
    "    elif ( x == \"الجزائر\" or x==\"السودان\" or x==\"تونس\" or x==\"ليبيا\" or x==\"المغرب\" or x==\"مصر\"):\n",
    "        return \"North African Countries\"\n",
    "    elif (x==\"العصر الأندلسي\"):\n",
    "        return \"Andalusia\"\n",
    "    elif (x == \"العصر العباسي\"):\n",
    "        return \"Abbasid Empire\"\n",
    "    else:\n",
    "        return \"Other\"\n",
    "\n",
    "df[\"category\"] = df['poet_cat'].apply(combine) # create new column with specific values to conditions"
   ]
  },
  {
   "cell_type": "code",
   "execution_count": 8,
   "metadata": {},
   "outputs": [],
   "source": [
    "df.drop(df[df[\"category\"]==\"Other\"].index, axis=0, inplace=True) # Drop all other categories"
   ]
  },
  {
   "cell_type": "markdown",
   "metadata": {},
   "source": [
    "## Visualizing data"
   ]
  },
  {
   "cell_type": "code",
   "execution_count": 9,
   "metadata": {},
   "outputs": [
    {
     "data": {
      "text/plain": [
       "<seaborn.axisgrid.FacetGrid at 0x1ade48edac8>"
      ]
     },
     "execution_count": 9,
     "metadata": {},
     "output_type": "execute_result"
    },
    {
     "data": {
      "image/png": "[encoded data removed]",
      "text/plain": [
       "<Figure size 360x360 with 1 Axes>"
      ]
     },
     "metadata": {
      "needs_background": "light"
     },
     "output_type": "display_data"
    }
   ],
   "source": [
    "chart = sns.catplot(\n",
    "    data=df,\n",
    "    kind='count',\n",
    "    x='category')\n",
    "chart.set_xticklabels(rotation=65, horizontalalignment='right')\n",
    "\n"
   ]
  },
  {
   "cell_type": "markdown",
   "metadata": {},
   "source": [
    "# Preparing Data for Training"
   ]
  },
  {
   "cell_type": "code",
   "execution_count": 10,
   "metadata": {},
   "outputs": [
    {
     "data": {
      "text/html": [
       "<div>\n",
       "<style scoped>\n",
       "    .dataframe tbody tr th:only-of-type {\n",
       "        vertical-align: middle;\n",
       "    }\n",
       "\n",
       "    .dataframe tbody tr th {\n",
       "        vertical-align: top;\n",
       "    }\n",
       "\n",
       "    .dataframe thead th {\n",
       "        text-align: right;\n",
       "    }\n",
       "</style>\n",
       "<table border=\"1\" class=\"dataframe\">\n",
       "  <thead>\n",
       "    <tr style=\"text-align: right;\">\n",
       "      <th></th>\n",
       "      <th>poem_text</th>\n",
       "      <th>poet_cat</th>\n",
       "      <th>category</th>\n",
       "    </tr>\n",
       "  </thead>\n",
       "  <tbody>\n",
       "    <tr>\n",
       "      <th>798</th>\n",
       "      <td>ايتها العرافة المقدسة جءت اليك مثخنا بالطعنات ...</td>\n",
       "      <td>مصر</td>\n",
       "      <td>North African Countries</td>\n",
       "    </tr>\n",
       "    <tr>\n",
       "      <th>799</th>\n",
       "      <td>في غرف العمليات, كان نقاب الاطباء ابيض, لون ال...</td>\n",
       "      <td>مصر</td>\n",
       "      <td>North African Countries</td>\n",
       "    </tr>\n",
       "    <tr>\n",
       "      <th>800</th>\n",
       "      <td>وسلال من الورد, المحها بين اغفاءة وافاقه وعلي ...</td>\n",
       "      <td>مصر</td>\n",
       "      <td>North African Countries</td>\n",
       "    </tr>\n",
       "    <tr>\n",
       "      <th>801</th>\n",
       "      <td>صورة هل انا كنت طفلا ام ان الذي كان طفلا سواي ...</td>\n",
       "      <td>مصر</td>\n",
       "      <td>North African Countries</td>\n",
       "    </tr>\n",
       "    <tr>\n",
       "      <th>802</th>\n",
       "      <td>(1) الطيور مشردة في السموات, ليس لها ان تحط عل...</td>\n",
       "      <td>مصر</td>\n",
       "      <td>North African Countries</td>\n",
       "    </tr>\n",
       "  </tbody>\n",
       "</table>\n",
       "</div>"
      ],
      "text/plain": [
       "                                             poem_text poet_cat  \\\n",
       "798  ايتها العرافة المقدسة جءت اليك مثخنا بالطعنات ...      مصر   \n",
       "799  في غرف العمليات, كان نقاب الاطباء ابيض, لون ال...      مصر   \n",
       "800  وسلال من الورد, المحها بين اغفاءة وافاقه وعلي ...      مصر   \n",
       "801  صورة هل انا كنت طفلا ام ان الذي كان طفلا سواي ...      مصر   \n",
       "802  (1) الطيور مشردة في السموات, ليس لها ان تحط عل...      مصر   \n",
       "\n",
       "                    category  \n",
       "798  North African Countries  \n",
       "799  North African Countries  \n",
       "800  North African Countries  \n",
       "801  North African Countries  \n",
       "802  North African Countries  "
      ]
     },
     "execution_count": 10,
     "metadata": {},
     "output_type": "execute_result"
    }
   ],
   "source": [
    "df.head()"
   ]
  },
  {
   "cell_type": "markdown",
   "metadata": {},
   "source": [
    "## Numpt Array Preperation"
   ]
  },
  {
   "cell_type": "code",
   "execution_count": 15,
   "metadata": {},
   "outputs": [
    {
     "name": "stdout",
     "output_type": "stream",
     "text": [
      "['ايتها العرافة المقدسة جءت اليك مثخنا بالطعنات والدماء ازحف في معاطف القتلي وفوق الجث المكدسة منكسر السيف مغبر الجبين والاعضاء اسال يا زرقاء عن فمك الياقوت عن نبوءة العذراء عن ساعدي المقطوع وهو ما يزال مسكا بالراية المنكسة عن صور الاطفال في الخوذات ملقاة علي الصحراء عن جاري الذي يهم بارتشاف الماء فيثقب الرصاص راسه في لحظة الملامسة عن الفم المحشو بالرمال والدماء اسال يا زرقاء عن وقفتي العزلاء بين السيف والجدار عن صرخة المراة بين السبي والفرار كيف حملت العار ثم مشيت دون ان اقتل نفسي دون ان انهار ودون ان يسقط لحمي من غبار التربة المدنسة تكلمي ايتها النبية المقدسة تكلمي باله بالعنة بالشيطان لا تغمضي عينيك فالجرذان تلعق من دمي حساءها ولا اردها تكلمي لشد ما انا مهان لا اليل يخفي عورتي كلا ولا الجدران ولا اختباءي في الصحيفة التي اشدها ولا احتماءي في سحاءب الدخان تقفز حولي طفلة واسعة العينين عذبة المشاكسة ( - كان يقص عنك يا صغيرتي ونحن في الخنادق فنفتح الازرار في ستراتنا ونسند البنادق وحين مات عطشا في الصحراء المشمسة رطب باسمك الشفاه اليابسة وارتخت العينان ) فاين اخفي وجهي المتهم المدان والضحكة الطروب ضحكته والوجه والغمازتان * * * ايتها النبية المقدسة لا تسكتي فقد سكت سنة فسنة لكي انال فضلة الامان قيل لي \"اخرس \" فخرست وعميت واءتمت بالخصيان ظلت في عبيد ( عبس ) احرس القطعان اجتز صوفها ارد نوقها انام في حظاءر النسيان طعامي الكسرة والماء وبعض الثمرات اليابسة وها انا في ساعة الطعان ساعة ان تخاذل الكماة والرماة والفرسان دعيت لميدان انا الذي ما ذقت لحم الضان انا الذي لا حول لي او شان انا الذي اقصيت عن مجالس الفتيان ادعي الي الموت ولم ادع الي المجالسة تكلمي ايتها النبية المقدسة تكلمي تكلمي فها انا علي التراب ساءل دمي وهو ظمء يطلب المزيدا اساءل الصمت الذي يخنقني \" ما لجمال مشيها وءيدا \" اجندلا يحملن ام حديدا \" فمن تري يصدقني اساءل الركع والسجودا اساءل القيودا \" ما لجمال مشيها وءيدا \" \" ما لجمال مشيها وءيدا \" ايتها العرافة المقدسة ماذا تفيد الكلمات الباءسة قلت لهم ما قلت عن قوافل الغبار فاتهموا عينيك يا زرقاء بالبوار قلت لهم ما قلت عن مسيرة الاشجار فاستضحكوا من وهمك الثرثار وحين فوجءوا بحد السيف قايضوا بنا والتمسوا النجاة والفرار ونحن جرحي القلب جرحي الروح والفم لم يبق الا الموت والحطام والدمار وصبية مشردون يعبرون اخر الانهار ونسوة يسقن في سلاسل الاسر وفي ثياب العار مطاطءات الراس لا يملكن الا الصرخات الناعسة ها انت يا زرقاء وحيدة عمياء وما تزال اغنيات الحب والاضواء والعربات الفارهات والازياء فاين اخفي وجهي المشوها كي لا اعكر الصفاء الابله الموها في اعين الرجال والنساء وانت يا زرقاء وحيدة عمياء وحيدة عمياء '\n",
      " 'في غرف العمليات, كان نقاب الاطباء ابيض, لون المعاطف ابيض, تاج الحكيمات ابيض, اردية الراهبات, الملاءات, لون الاسرة, اربطة الشاش والقطن, قرص المنوم, انبوبة المصل, كوب البن, كل هذا يشيع بقلبي الوهن كل هذا البياض يذكرني بالكفن فلماذا اذا مت ياتي المعزون متشحين بشارات لون الحداد? هل لان السواد هو لون النجاة من الموت, لون التميمة ضد الزمن, *** ضد من ? ومتي القلب - في الخفقان - اطمان *** بين لونين استقبل الاصدقاء الذين يرون سريري قبرا وحياتي دهرا واري في العيون العميقة لون الحقيقة لون تراب الوطن'\n",
      " 'وسلال من الورد, المحها بين اغفاءة وافاقه وعلي كل باقة اسم حاملها في بطاقه *** تحدث لي الزهرات الجميله ان اعينها اتسعت - دهشة - لحظة القطف, لحظة القصف, لحظة اعدامها في الخميله تحدث لي انها سقطت من علي عرشها في البساتين ثم افاقت علي عرضها في زجاج الدكاكين, او بين ايدي المنادين, حتي اشترتها اليد المتفضلة العابره تحدث لي كيف جاءت الي (واحزانها الملكية ترفع اعناقها الخضر) كي تمني لي العمر وهي تجود بانفاسها الاخره *** كل باقه بين اغماءة وافاقه تنفس مثلي - بالكاد - ثانية ثانيه وعلي صدرها حملت - راضيه اسم قاتلها في بطاقه'\n",
      " ...\n",
      " 'في عينيك يا امي لماذا الدمع منتظم كعقد الءلء المرمي لا ادري اخاف العمر يخطفني فاكبر دونما فهمي او احنو علي قلبي علي سري واسقي السر من قلبي ومن دمي فسري ان بي خوف بان اسلاك يا امي او اغفوا علي وتر لا يشكو انينا او سري ضيمي سوي لسوابق الغيم قلبك كان زورقتي وكنت الطفل في يمي وصار لزورقي الورقي اشرعة من الاحزان والهم اخاف اذا سردت بها رياح الجرح و اليتم ان تبتل احلامي بحزن الدمع من امي'\n",
      " 'النوم يوقظ طرفي الظامي علي لحن تموج من بعيد ارمي انتظاري فوق هذا اليل يخرج نايه من نجمة اخري يا ناي غسل بالصباح الانتظار واكتب علي البحر الملوحة والمرار شربت هذا الصبح حتي اسكرت في القفار'\n",
      " 'السلم الذي نزلت فيه لسماء سلم من الجنان جاء اوراقه كتاب رحلة حروفه انامل النساء مكون من عنبر الندي في قمة الثلوج والضياء من قال اني هنا قلت بل هناك في البقاء شرابي السءال والمدي طعامي الهيام والعطاء نزلت في معارج الصدي صعدت غارقا كما اشاء']\n",
      "['North African Countries' 'North African Countries'\n",
      " 'North African Countries' ... 'Bilad al-Sham' 'Bilad al-Sham'\n",
      " 'Bilad al-Sham']\n"
     ]
    }
   ],
   "source": [
    "#Creating new dataframe for training \n",
    "new_data = df.drop([\"poet_cat\"], axis=1)\n",
    "new_data = new_data.drop([\"category\"], axis=1)\n",
    "dflabel = df[['category']]\n",
    "new_data.insert(len(new_data.columns),\"category\",dflabel)\n",
    "\n",
    "#########################################################################\n",
    "############################  NUMPY ARRAYS  #############################\n",
    "#########################################################################\n",
    "\n",
    "# convert the array into a numpy array\n",
    "arr = new_data.to_numpy()\n",
    "# separate X and Y\n",
    "Y = arr[:,1]\n",
    "Y=Y.astype(str)\n",
    "X = arr[:,0]\n",
    "X=X.astype(str)\n",
    "print(X)\n",
    "print(Y)"
   ]
  },
  {
   "cell_type": "markdown",
   "metadata": {},
   "source": [
    "## Cleaning Data "
   ]
  },
  {
   "cell_type": "code",
   "execution_count": 29,
   "metadata": {},
   "outputs": [
    {
     "name": "stdout",
     "output_type": "stream",
     "text": [
      "['ايت عرافة مقدسة جءت اليك مثخ طعن دماء ازحف في معاطف قتلي وفوق الجث مكدسة منكسر سيف مغبر جبين اعضاء اسال يا زرقاء عن فمك ياقوت عن نبوءة عذراء عن ساعدي مقطوع وهو ما يزال مسكا راية منكسة عن صور اطفال في خوذ ملقاة علي صحراء عن جاري الذي يهم بارتشاف ماء فيثقب رصاص راسه في لحظة ملامسة عن الفم محشو رمال دماء اسال يا زرقاء عن وقفتي عزلاء بين سيف جدار عن صرخة مراة بين سبي فرار كيف حملت عار ثم مشيت دون ان اقتل نفسي دون ان انهار ودون ان يسقط لحمي من غبار تربة مدنسة تكلمي ايت نبية مقدسة تكلمي باله عنة شيط لا تغمضي عينيك فالجرذ تلعق من دمي حساء ولا ارد تكلمي لشد ما انا مهان لا اليل يخفي عورتي كلا ولا جدر ولا اختباءي في صحيفة التي اشد ولا احتماءي في سحاءب دخان تقفز حولي طفلة واسعة عين عذبة مشاكسة ( - كان يقص عنك يا صغيرتي ونحن في خنادق فنفتح ازرار في سترات ونسند بنادق وحين مات عطشا في صحراء مشمسة رطب باسمك شفاه يابسة وارتخت عين ) فاين اخفي وجهي متهم مدان ضحكة طروب ضحكته وجه غماز * * * ايت نبية مقدسة لا تسكتي فقد سكت سنة فسنة لكي انال فضلة امان قيل لي \"اخرس \" فخرست وعميت واءتمت خصي ظلت في عبيد ( عبس ) احرس قطع اجتز صوف ارد نوق انام في حظاءر نسي طعامي كسرة ماء وبعض ثمر يابسة وها انا في ساعة طعان ساعة ان تخاذل كماة رماة فرس دعيت لميد انا الذي ما ذقت لحم ضان انا الذي لا حول لي او شان انا الذي اقصيت عن مجالس فتي ادعي الي موت ولم ادع الي مجالسة تكلمي ايت نبية مقدسة تكلمي تكلمي فها انا علي تراب ساءل دمي وهو ظمء يطلب مزيدا اساءل صمت الذي يخنق \" ما لجمال مشي وءيدا \" اجندلا يحملن ام حديدا \" فمن تري يصدق اساءل ركع سجودا اساءل قيودا \" ما لجمال مشي وءيدا \" \" ما لجمال مشي وءيدا \" ايت عرافة مقدسة ماذا تفيد كلم باءسة قلت لهم ما قلت عن قوافل غبار فاتهم عينيك يا زرقاء بوار قلت لهم ما قلت عن مسيرة اشجار فاستضحك من وهمك ثرثار وحين فوجء بحد سيف قايض بنا تمس نجاة فرار ونحن جرحي قلب جرحي روح والفم لم يبق الا موت حطام دمار وصبية مشرد يعبر اخر انهار ونسوة يسقن في سلاسل اسر وفي ثياب عار مطاطء راس لا يمل الا صرخ ناعسة ها انت يا زرقاء وحيدة عمياء وما تزال اغني الحب اضواء عرب فاره ازياء فاين اخفي وجهي مشو كي لا اعكر صفاء ابله موها في اعين رجال نساء وانت يا زرقاء وحيدة عمياء وحيدة عمياء']\n",
      "Nromal\n",
      "ايتها العرافة المقدسة جءت اليك مثخنا بالطعنات والدماء ازحف في معاطف القتلي وفوق الجث المكدسة منكسر السيف مغبر الجبين والاعضاء اسال يا زرقاء عن فمك الياقوت عن نبوءة العذراء عن ساعدي المقطوع وهو ما يزال مسكا بالراية المنكسة عن صور الاطفال في الخوذات ملقاة علي الصحراء عن جاري الذي يهم بارتشاف الماء فيثقب الرصاص راسه في لحظة الملامسة عن الفم المحشو بالرمال والدماء اسال يا زرقاء عن وقفتي العزلاء بين السيف والجدار عن صرخة المراة بين السبي والفرار كيف حملت العار ثم مشيت دون ان اقتل نفسي دون ان انهار ودون ان يسقط لحمي من غبار التربة المدنسة تكلمي ايتها النبية المقدسة تكلمي باله بالعنة بالشيطان لا تغمضي عينيك فالجرذان تلعق من دمي حساءها ولا اردها تكلمي لشد ما انا مهان لا اليل يخفي عورتي كلا ولا الجدران ولا اختباءي في الصحيفة التي اشدها ولا احتماءي في سحاءب الدخان تقفز حولي طفلة واسعة العينين عذبة المشاكسة ( - كان يقص عنك يا صغيرتي ونحن في الخنادق فنفتح الازرار في ستراتنا ونسند البنادق وحين مات عطشا في الصحراء المشمسة رطب باسمك الشفاه اليابسة وارتخت العينان ) فاين اخفي وجهي المتهم المدان والضحكة الطروب ضحكته والوجه والغمازتان * * * ايتها النبية المقدسة لا تسكتي فقد سكت سنة فسنة لكي انال فضلة الامان قيل لي \"اخرس \" فخرست وعميت واءتمت بالخصيان ظلت في عبيد ( عبس ) احرس القطعان اجتز صوفها ارد نوقها انام في حظاءر النسيان طعامي الكسرة والماء وبعض الثمرات اليابسة وها انا في ساعة الطعان ساعة ان تخاذل الكماة والرماة والفرسان دعيت لميدان انا الذي ما ذقت لحم الضان انا الذي لا حول لي او شان انا الذي اقصيت عن مجالس الفتيان ادعي الي الموت ولم ادع الي المجالسة تكلمي ايتها النبية المقدسة تكلمي تكلمي فها انا علي التراب ساءل دمي وهو ظمء يطلب المزيدا اساءل الصمت الذي يخنقني \" ما لجمال مشيها وءيدا \" اجندلا يحملن ام حديدا \" فمن تري يصدقني اساءل الركع والسجودا اساءل القيودا \" ما لجمال مشيها وءيدا \" \" ما لجمال مشيها وءيدا \" ايتها العرافة المقدسة ماذا تفيد الكلمات الباءسة قلت لهم ما قلت عن قوافل الغبار فاتهموا عينيك يا زرقاء بالبوار قلت لهم ما قلت عن مسيرة الاشجار فاستضحكوا من وهمك الثرثار وحين فوجءوا بحد السيف قايضوا بنا والتمسوا النجاة والفرار ونحن جرحي القلب جرحي الروح والفم لم يبق الا الموت والحطام والدمار وصبية مشردون يعبرون اخر الانهار ونسوة يسقن في سلاسل الاسر وفي ثياب العار مطاطءات الراس لا يملكن الا الصرخات الناعسة ها انت يا زرقاء وحيدة عمياء وما تزال اغنيات الحب والاضواء والعربات الفارهات والازياء فاين اخفي وجهي المشوها كي لا اعكر الصفاء الابله الموها في اعين الرجال والنساء وانت يا زرقاء وحيدة عمياء وحيدة عمياء \n"
     ]
    }
   ],
   "source": [
    "# Arabic light stemming for Arabic text\n",
    "# takes a word list and perform light stemming for each Arabic words\n",
    "def light_stem(text):\n",
    "    words = text.split()\n",
    "    result = list()\n",
    "    stemmer = ISRIStemmer()\n",
    "    for word in words:\n",
    "        word = stemmer.norm(word, num=1)      # remove diacritics which representing Arabic short vowels\n",
    "        if not word in stemmer.stop_words:    # exclude stop words from being processed\n",
    "            word = stemmer.pre32(word)        # remove length three and length two prefixes in this order\n",
    "            word = stemmer.suf32(word)        # remove length three and length two suffixes in this order\n",
    "            word = stemmer.waw(word)          # remove connective ‘و’ if it precedes a word beginning with ‘و’\n",
    "            word = stemmer.norm(word, num=2)  # normalize initial hamza to bare alif\n",
    "#             word=stemmer.pro_w4(word)         #process length four patterns and extract length three roots\n",
    "#             word=stemmer.pro_w53(word)        #process length five patterns and extract length three roots\n",
    "#             word=stemmer.pro_w54(word)        #process length five patterns and extract length four roots\n",
    "#             word=stemmer.end_w5(word)         #ending step (word of length five)\n",
    "#             word=stemmer.pro_w6(word)         #process length six patterns and extract length three roots\n",
    "#             word=stemmer.pro_w64(word)        #process length six patterns and extract length four roots\n",
    "#             word=stemmer.end_w6(word)         #ending step (word of length six)\n",
    "#             word=stemmer.suf1(word)           #normalize short sufix\n",
    "#             word=stemmer.pre1(word)           #normalize short prefix\n",
    "            \n",
    "        result.append(word)\n",
    "    return ' '.join(result)\n",
    "\n",
    "cleaned_X=[]\n",
    "for i in range (1):\n",
    "    cleaned_X.append(light_stem(X[i]))\n",
    "    print(cleaned_X)\n",
    "    print(\"Nromal\")\n",
    "    print(X[i])"
   ]
  },
  {
   "cell_type": "code",
   "execution_count": null,
   "metadata": {},
   "outputs": [],
   "source": []
  },
  {
   "cell_type": "code",
   "execution_count": null,
   "metadata": {},
   "outputs": [],
   "source": []
  }
 ],
 "metadata": {
  "kernelspec": {
   "display_name": "Python 3",
   "language": "python",
   "name": "python3"
  },
  "language_info": {
   "codemirror_mode": {
    "name": "ipython",
    "version": 3
   },
   "file_extension": ".py",
   "mimetype": "text/x-python",
   "name": "python",
   "nbconvert_exporter": "python",
   "pygments_lexer": "ipython3",
   "version": "3.7.3"
  }
 },
 "nbformat": 4,
 "nbformat_minor": 2
}
